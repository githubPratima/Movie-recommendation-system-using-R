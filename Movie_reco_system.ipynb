{
 "cells": [
  {
   "cell_type": "markdown",
   "id": "c8f8bf1e",
   "metadata": {},
   "source": [
    "\n",
    "- **refrence : https://rpubs.com/Oluyole/789742**\n"
   ]
  },
  {
   "cell_type": "markdown",
   "id": "14f146b7",
   "metadata": {},
   "source": [
    "# Movie recommendation\n",
    "- **There are basically two types of movie recommendation system**\n",
    "- **1.collaberative filtering 2. content based filtering**\n",
    "- **Here in our project we are doing collaberative filtering movie recommendation system**\n",
    "- **we built  linear model and matrix factorization model**\n",
    "- **Dataset:  https://grouplens.org/datasets/movielens/ ml-10M100 **"
   ]
  },
  {
   "cell_type": "markdown",
   "id": "dac051f9",
   "metadata": {},
   "source": [
    "# Uploading the required R packages"
   ]
  },
  {
   "cell_type": "code",
   "execution_count": 1,
   "id": "3cf5109e",
   "metadata": {},
   "outputs": [
    {
     "name": "stderr",
     "output_type": "stream",
     "text": [
      "Loading required package: ggplot2\n",
      "\n",
      "Loading required package: lattice\n",
      "\n",
      "Warning message:\n",
      "\"package 'lattice' was built under R version 4.2.3\"\n",
      "\n",
      "Attaching package: 'dplyr'\n",
      "\n",
      "\n",
      "The following objects are masked from 'package:data.table':\n",
      "\n",
      "    between, first, last\n",
      "\n",
      "\n",
      "The following objects are masked from 'package:stats':\n",
      "\n",
      "    filter, lag\n",
      "\n",
      "\n",
      "The following objects are masked from 'package:base':\n",
      "\n",
      "    intersect, setdiff, setequal, union\n",
      "\n",
      "\n",
      "\n",
      "Attaching package: 'ggthemes'\n",
      "\n",
      "\n",
      "The following object is masked from 'package:cowplot':\n",
      "\n",
      "    theme_map\n",
      "\n",
      "\n",
      "\n",
      "Attaching package: 'lubridate'\n",
      "\n",
      "\n",
      "The following objects are masked from 'package:data.table':\n",
      "\n",
      "    hour, isoweek, mday, minute, month, quarter, second, wday, week,\n",
      "    yday, year\n",
      "\n",
      "\n",
      "The following object is masked from 'package:cowplot':\n",
      "\n",
      "    stamp\n",
      "\n",
      "\n",
      "The following objects are masked from 'package:base':\n",
      "\n",
      "    date, intersect, setdiff, union\n",
      "\n",
      "\n",
      "\n",
      "Attaching package: 'Metrics'\n",
      "\n",
      "\n",
      "The following objects are masked from 'package:caret':\n",
      "\n",
      "    precision, recall\n",
      "\n",
      "\n",
      "\n",
      "Attaching package: 'readr'\n",
      "\n",
      "\n",
      "The following object is masked from 'package:scales':\n",
      "\n",
      "    col_factor\n",
      "\n",
      "\n",
      "\n",
      "Attaching package: 'gridExtra'\n",
      "\n",
      "\n",
      "The following object is masked from 'package:dplyr':\n",
      "\n",
      "    combine\n",
      "\n",
      "\n"
     ]
    }
   ],
   "source": [
    "library(caret)\n",
    "library(cowplot)\n",
    "library(data.table)\n",
    "library(dplyr)\n",
    "library(ggplot2)\n",
    "library(ggthemes)\n",
    "library(lubridate)\n",
    "library(Metrics)\n",
    "library(recosystem)\n",
    "library(scales)\n",
    "library(stringr)\n",
    "library(tibble)\n",
    "library(tidyr)\n",
    "library(readr)\n",
    "library(gridExtra)\n",
    "library(dslabs)\n",
    "library(data.table)\n",
    "library(ggrepel)"
   ]
  },
  {
   "cell_type": "markdown",
   "id": "35a701ba",
   "metadata": {},
   "source": [
    "# Loading the dataset\n",
    "- **we took the movielen dataset(https://grouplens.org/datasets/movielens/)**"
   ]
  },
  {
   "cell_type": "code",
   "execution_count": 2,
   "id": "3774e83c",
   "metadata": {},
   "outputs": [],
   "source": [
    "ratings <- fread(text = gsub(\"::\", \"\\t\", \n",
    "                 readLines(\"C:/Users/pdlpr/Downloads/ml-10M100K/ratings.dat\")),\n",
    "                 col.names = c(\"userId\", \"movieId\", \"rating\", \"timestamp\"))\n"
   ]
  },
  {
   "cell_type": "code",
   "execution_count": 3,
   "id": "23053153",
   "metadata": {},
   "outputs": [],
   "source": [
    "movies <- str_split_fixed(readLines(\"C:/Users/pdlpr/Downloads/ml-10M100K/movies.dat\"), \"\\\\::\", 3)\n",
    "colnames(movies) <- c(\"movieId\", \"title\", \"genres\")"
   ]
  },
  {
   "cell_type": "code",
   "execution_count": 4,
   "id": "b0db3e4a",
   "metadata": {},
   "outputs": [
    {
     "data": {
      "text/html": [
       "<style>\n",
       ".list-inline {list-style: none; margin:0; padding: 0}\n",
       ".list-inline>li {display: inline-block}\n",
       ".list-inline>li:not(:last-child)::after {content: \"\\00b7\"; padding: 0 .5ex}\n",
       "</style>\n",
       "<ol class=list-inline><li>'matrix'</li><li>'array'</li></ol>\n"
      ],
      "text/latex": [
       "\\begin{enumerate*}\n",
       "\\item 'matrix'\n",
       "\\item 'array'\n",
       "\\end{enumerate*}\n"
      ],
      "text/markdown": [
       "1. 'matrix'\n",
       "2. 'array'\n",
       "\n",
       "\n"
      ],
      "text/plain": [
       "[1] \"matrix\" \"array\" "
      ]
     },
     "metadata": {},
     "output_type": "display_data"
    },
    {
     "data": {
      "text/html": [
       "<table class=\"dataframe\">\n",
       "<caption>A matrix: 6 × 3 of type chr</caption>\n",
       "<thead>\n",
       "\t<tr><th scope=col>movieId</th><th scope=col>title</th><th scope=col>genres</th></tr>\n",
       "</thead>\n",
       "<tbody>\n",
       "\t<tr><td>1</td><td>Toy Story (1995)                  </td><td>Adventure|Animation|Children|Comedy|Fantasy</td></tr>\n",
       "\t<tr><td>2</td><td>Jumanji (1995)                    </td><td>Adventure|Children|Fantasy                 </td></tr>\n",
       "\t<tr><td>3</td><td>Grumpier Old Men (1995)           </td><td>Comedy|Romance                             </td></tr>\n",
       "\t<tr><td>4</td><td>Waiting to Exhale (1995)          </td><td>Comedy|Drama|Romance                       </td></tr>\n",
       "\t<tr><td>5</td><td>Father of the Bride Part II (1995)</td><td>Comedy                                     </td></tr>\n",
       "\t<tr><td>6</td><td>Heat (1995)                       </td><td>Action|Crime|Thriller                      </td></tr>\n",
       "</tbody>\n",
       "</table>\n"
      ],
      "text/latex": [
       "A matrix: 6 × 3 of type chr\n",
       "\\begin{tabular}{lll}\n",
       " movieId & title & genres\\\\\n",
       "\\hline\n",
       "\t 1 & Toy Story (1995)                   & Adventure\\textbar{}Animation\\textbar{}Children\\textbar{}Comedy\\textbar{}Fantasy\\\\\n",
       "\t 2 & Jumanji (1995)                     & Adventure\\textbar{}Children\\textbar{}Fantasy                 \\\\\n",
       "\t 3 & Grumpier Old Men (1995)            & Comedy\\textbar{}Romance                             \\\\\n",
       "\t 4 & Waiting to Exhale (1995)           & Comedy\\textbar{}Drama\\textbar{}Romance                       \\\\\n",
       "\t 5 & Father of the Bride Part II (1995) & Comedy                                     \\\\\n",
       "\t 6 & Heat (1995)                        & Action\\textbar{}Crime\\textbar{}Thriller                      \\\\\n",
       "\\end{tabular}\n"
      ],
      "text/markdown": [
       "\n",
       "A matrix: 6 × 3 of type chr\n",
       "\n",
       "| movieId | title | genres |\n",
       "|---|---|---|\n",
       "| 1 | Toy Story (1995)                   | Adventure|Animation|Children|Comedy|Fantasy |\n",
       "| 2 | Jumanji (1995)                     | Adventure|Children|Fantasy                  |\n",
       "| 3 | Grumpier Old Men (1995)            | Comedy|Romance                              |\n",
       "| 4 | Waiting to Exhale (1995)           | Comedy|Drama|Romance                        |\n",
       "| 5 | Father of the Bride Part II (1995) | Comedy                                      |\n",
       "| 6 | Heat (1995)                        | Action|Crime|Thriller                       |\n",
       "\n"
      ],
      "text/plain": [
       "     movieId title                             \n",
       "[1,] 1       Toy Story (1995)                  \n",
       "[2,] 2       Jumanji (1995)                    \n",
       "[3,] 3       Grumpier Old Men (1995)           \n",
       "[4,] 4       Waiting to Exhale (1995)          \n",
       "[5,] 5       Father of the Bride Part II (1995)\n",
       "[6,] 6       Heat (1995)                       \n",
       "     genres                                     \n",
       "[1,] Adventure|Animation|Children|Comedy|Fantasy\n",
       "[2,] Adventure|Children|Fantasy                 \n",
       "[3,] Comedy|Romance                             \n",
       "[4,] Comedy|Drama|Romance                       \n",
       "[5,] Comedy                                     \n",
       "[6,] Action|Crime|Thriller                      "
      ]
     },
     "metadata": {},
     "output_type": "display_data"
    }
   ],
   "source": [
    "class(movies)\n",
    "head(movies)"
   ]
  },
  {
   "cell_type": "code",
   "execution_count": 5,
   "id": "bdcdec95",
   "metadata": {},
   "outputs": [
    {
     "data": {
      "text/html": [
       "<style>\n",
       ".list-inline {list-style: none; margin:0; padding: 0}\n",
       ".list-inline>li {display: inline-block}\n",
       ".list-inline>li:not(:last-child)::after {content: \"\\00b7\"; padding: 0 .5ex}\n",
       "</style>\n",
       "<ol class=list-inline><li>'data.table'</li><li>'data.frame'</li></ol>\n"
      ],
      "text/latex": [
       "\\begin{enumerate*}\n",
       "\\item 'data.table'\n",
       "\\item 'data.frame'\n",
       "\\end{enumerate*}\n"
      ],
      "text/markdown": [
       "1. 'data.table'\n",
       "2. 'data.frame'\n",
       "\n",
       "\n"
      ],
      "text/plain": [
       "[1] \"data.table\" \"data.frame\""
      ]
     },
     "metadata": {},
     "output_type": "display_data"
    },
    {
     "data": {
      "text/html": [
       "<table class=\"dataframe\">\n",
       "<caption>A data.table: 6 × 4</caption>\n",
       "<thead>\n",
       "\t<tr><th scope=col>userId</th><th scope=col>movieId</th><th scope=col>rating</th><th scope=col>timestamp</th></tr>\n",
       "\t<tr><th scope=col>&lt;int&gt;</th><th scope=col>&lt;int&gt;</th><th scope=col>&lt;dbl&gt;</th><th scope=col>&lt;int&gt;</th></tr>\n",
       "</thead>\n",
       "<tbody>\n",
       "\t<tr><td>1</td><td>122</td><td>5</td><td>838985046</td></tr>\n",
       "\t<tr><td>1</td><td>185</td><td>5</td><td>838983525</td></tr>\n",
       "\t<tr><td>1</td><td>231</td><td>5</td><td>838983392</td></tr>\n",
       "\t<tr><td>1</td><td>292</td><td>5</td><td>838983421</td></tr>\n",
       "\t<tr><td>1</td><td>316</td><td>5</td><td>838983392</td></tr>\n",
       "\t<tr><td>1</td><td>329</td><td>5</td><td>838983392</td></tr>\n",
       "</tbody>\n",
       "</table>\n"
      ],
      "text/latex": [
       "A data.table: 6 × 4\n",
       "\\begin{tabular}{llll}\n",
       " userId & movieId & rating & timestamp\\\\\n",
       " <int> & <int> & <dbl> & <int>\\\\\n",
       "\\hline\n",
       "\t 1 & 122 & 5 & 838985046\\\\\n",
       "\t 1 & 185 & 5 & 838983525\\\\\n",
       "\t 1 & 231 & 5 & 838983392\\\\\n",
       "\t 1 & 292 & 5 & 838983421\\\\\n",
       "\t 1 & 316 & 5 & 838983392\\\\\n",
       "\t 1 & 329 & 5 & 838983392\\\\\n",
       "\\end{tabular}\n"
      ],
      "text/markdown": [
       "\n",
       "A data.table: 6 × 4\n",
       "\n",
       "| userId &lt;int&gt; | movieId &lt;int&gt; | rating &lt;dbl&gt; | timestamp &lt;int&gt; |\n",
       "|---|---|---|---|\n",
       "| 1 | 122 | 5 | 838985046 |\n",
       "| 1 | 185 | 5 | 838983525 |\n",
       "| 1 | 231 | 5 | 838983392 |\n",
       "| 1 | 292 | 5 | 838983421 |\n",
       "| 1 | 316 | 5 | 838983392 |\n",
       "| 1 | 329 | 5 | 838983392 |\n",
       "\n"
      ],
      "text/plain": [
       "  userId movieId rating timestamp\n",
       "1 1      122     5      838985046\n",
       "2 1      185     5      838983525\n",
       "3 1      231     5      838983392\n",
       "4 1      292     5      838983421\n",
       "5 1      316     5      838983392\n",
       "6 1      329     5      838983392"
      ]
     },
     "metadata": {},
     "output_type": "display_data"
    }
   ],
   "source": [
    "class(ratings)\n",
    "head(ratings)"
   ]
  },
  {
   "cell_type": "markdown",
   "id": "13d5fa65",
   "metadata": {},
   "source": [
    "- It convertst the movie matrix into dataframe,the onew hich  was created using the str_split_fixed() function to split the text data "
   ]
  },
  {
   "cell_type": "code",
   "execution_count": 6,
   "id": "b640a34f",
   "metadata": {},
   "outputs": [],
   "source": [
    "movies <- as.data.frame(movies) "
   ]
  },
  {
   "cell_type": "markdown",
   "id": "6cf556ac",
   "metadata": {},
   "source": [
    "- We are using integer function to convert the movieId column of the movies data frame from character type to integer type"
   ]
  },
  {
   "cell_type": "code",
   "execution_count": 7,
   "id": "62d0a363",
   "metadata": {},
   "outputs": [],
   "source": [
    "movies$movieId <- as.integer(movies$movieId)"
   ]
  },
  {
   "cell_type": "markdown",
   "id": "82534d68",
   "metadata": {},
   "source": [
    "- Both movies and rating are in right format now we joined it by left_join by mmovieId"
   ]
  },
  {
   "cell_type": "code",
   "execution_count": 8,
   "id": "94eeba32",
   "metadata": {},
   "outputs": [
    {
     "data": {
      "text/html": [
       "<style>\n",
       ".list-inline {list-style: none; margin:0; padding: 0}\n",
       ".list-inline>li {display: inline-block}\n",
       ".list-inline>li:not(:last-child)::after {content: \"\\00b7\"; padding: 0 .5ex}\n",
       "</style>\n",
       "<ol class=list-inline><li>'data.table'</li><li>'data.frame'</li></ol>\n"
      ],
      "text/latex": [
       "\\begin{enumerate*}\n",
       "\\item 'data.table'\n",
       "\\item 'data.frame'\n",
       "\\end{enumerate*}\n"
      ],
      "text/markdown": [
       "1. 'data.table'\n",
       "2. 'data.frame'\n",
       "\n",
       "\n"
      ],
      "text/plain": [
       "[1] \"data.table\" \"data.frame\""
      ]
     },
     "metadata": {},
     "output_type": "display_data"
    }
   ],
   "source": [
    "mod_movies <- left_join(ratings, movies, by = \"movieId\")\n",
    "class(mod_movies)"
   ]
  },
  {
   "cell_type": "code",
   "execution_count": 9,
   "id": "7fd9625e",
   "metadata": {},
   "outputs": [
    {
     "data": {
      "text/html": [
       "<table class=\"dataframe\">\n",
       "<caption>A data.table: 6 × 6</caption>\n",
       "<thead>\n",
       "\t<tr><th scope=col>userId</th><th scope=col>movieId</th><th scope=col>rating</th><th scope=col>timestamp</th><th scope=col>title</th><th scope=col>genres</th></tr>\n",
       "\t<tr><th scope=col>&lt;int&gt;</th><th scope=col>&lt;int&gt;</th><th scope=col>&lt;dbl&gt;</th><th scope=col>&lt;int&gt;</th><th scope=col>&lt;chr&gt;</th><th scope=col>&lt;chr&gt;</th></tr>\n",
       "</thead>\n",
       "<tbody>\n",
       "\t<tr><td>1</td><td>122</td><td>5</td><td>838985046</td><td>Boomerang (1992)             </td><td>Comedy|Romance               </td></tr>\n",
       "\t<tr><td>1</td><td>185</td><td>5</td><td>838983525</td><td>Net, The (1995)              </td><td>Action|Crime|Thriller        </td></tr>\n",
       "\t<tr><td>1</td><td>231</td><td>5</td><td>838983392</td><td><span style=white-space:pre-wrap>Dumb &amp; Dumber (1994)         </span></td><td><span style=white-space:pre-wrap>Comedy                       </span></td></tr>\n",
       "\t<tr><td>1</td><td>292</td><td>5</td><td>838983421</td><td>Outbreak (1995)              </td><td>Action|Drama|Sci-Fi|Thriller </td></tr>\n",
       "\t<tr><td>1</td><td>316</td><td>5</td><td>838983392</td><td>Stargate (1994)              </td><td>Action|Adventure|Sci-Fi      </td></tr>\n",
       "\t<tr><td>1</td><td>329</td><td>5</td><td>838983392</td><td>Star Trek: Generations (1994)</td><td>Action|Adventure|Drama|Sci-Fi</td></tr>\n",
       "</tbody>\n",
       "</table>\n"
      ],
      "text/latex": [
       "A data.table: 6 × 6\n",
       "\\begin{tabular}{llllll}\n",
       " userId & movieId & rating & timestamp & title & genres\\\\\n",
       " <int> & <int> & <dbl> & <int> & <chr> & <chr>\\\\\n",
       "\\hline\n",
       "\t 1 & 122 & 5 & 838985046 & Boomerang (1992)              & Comedy\\textbar{}Romance               \\\\\n",
       "\t 1 & 185 & 5 & 838983525 & Net, The (1995)               & Action\\textbar{}Crime\\textbar{}Thriller        \\\\\n",
       "\t 1 & 231 & 5 & 838983392 & Dumb \\& Dumber (1994)          & Comedy                       \\\\\n",
       "\t 1 & 292 & 5 & 838983421 & Outbreak (1995)               & Action\\textbar{}Drama\\textbar{}Sci-Fi\\textbar{}Thriller \\\\\n",
       "\t 1 & 316 & 5 & 838983392 & Stargate (1994)               & Action\\textbar{}Adventure\\textbar{}Sci-Fi      \\\\\n",
       "\t 1 & 329 & 5 & 838983392 & Star Trek: Generations (1994) & Action\\textbar{}Adventure\\textbar{}Drama\\textbar{}Sci-Fi\\\\\n",
       "\\end{tabular}\n"
      ],
      "text/markdown": [
       "\n",
       "A data.table: 6 × 6\n",
       "\n",
       "| userId &lt;int&gt; | movieId &lt;int&gt; | rating &lt;dbl&gt; | timestamp &lt;int&gt; | title &lt;chr&gt; | genres &lt;chr&gt; |\n",
       "|---|---|---|---|---|---|\n",
       "| 1 | 122 | 5 | 838985046 | Boomerang (1992)              | Comedy|Romance                |\n",
       "| 1 | 185 | 5 | 838983525 | Net, The (1995)               | Action|Crime|Thriller         |\n",
       "| 1 | 231 | 5 | 838983392 | Dumb &amp; Dumber (1994)          | Comedy                        |\n",
       "| 1 | 292 | 5 | 838983421 | Outbreak (1995)               | Action|Drama|Sci-Fi|Thriller  |\n",
       "| 1 | 316 | 5 | 838983392 | Stargate (1994)               | Action|Adventure|Sci-Fi       |\n",
       "| 1 | 329 | 5 | 838983392 | Star Trek: Generations (1994) | Action|Adventure|Drama|Sci-Fi |\n",
       "\n"
      ],
      "text/plain": [
       "  userId movieId rating timestamp title                        \n",
       "1 1      122     5      838985046 Boomerang (1992)             \n",
       "2 1      185     5      838983525 Net, The (1995)              \n",
       "3 1      231     5      838983392 Dumb & Dumber (1994)         \n",
       "4 1      292     5      838983421 Outbreak (1995)              \n",
       "5 1      316     5      838983392 Stargate (1994)              \n",
       "6 1      329     5      838983392 Star Trek: Generations (1994)\n",
       "  genres                       \n",
       "1 Comedy|Romance               \n",
       "2 Action|Crime|Thriller        \n",
       "3 Comedy                       \n",
       "4 Action|Drama|Sci-Fi|Thriller \n",
       "5 Action|Adventure|Sci-Fi      \n",
       "6 Action|Adventure|Drama|Sci-Fi"
      ]
     },
     "metadata": {},
     "output_type": "display_data"
    }
   ],
   "source": [
    "head(mod_movies)"
   ]
  },
  {
   "cell_type": "markdown",
   "id": "e5dde150",
   "metadata": {},
   "source": [
    "- We are going to  split the mod_movies data frame into three subsets: working_set, temp, and validation_set.\n",
    "- The working set is for training the model, validation is to test the model performance\n",
    "- The validation set  picks up 10 percent sample data rows from mod_movies, remainig the data are splitted into working_set  - \n",
    "- temp contain  but only the rows that were selected by the validation_set.\n"
   ]
  },
  {
   "cell_type": "code",
   "execution_count": 10,
   "id": "81728ab1",
   "metadata": {},
   "outputs": [
    {
     "name": "stdout",
     "output_type": "stream",
     "text": [
      "      Dataset Number_of_ratings\n",
      "1  mod_movies          10000054\n",
      "2 working_set           9000049\n",
      "3        temp           1000005\n"
     ]
    }
   ],
   "source": [
    "set.seed(1)\n",
    "validation_set <- sample(1:nrow(mod_movies), 0.1*nrow(mod_movies)) \n",
    "working_set <- mod_movies[-validation_set,]   \n",
    "temp <- mod_movies[validation_set,]  \n",
    "summary_table <- data.frame(Dataset = c(\"mod_movies\", \"working_set\", \"temp\"),\n",
    "                            Number_of_ratings = c(nrow(mod_movies), nrow(working_set), nrow(temp)))\n",
    "print(summary_table)"
   ]
  },
  {
   "cell_type": "markdown",
   "id": "d7c7151b",
   "metadata": {},
   "source": [
    "\n",
    "- Working_set data frame contains all the rows in mod_movies that are not in the test_set\n",
    "- while the temp data frame contains all the rows in mod_movies that are in the test_set."
   ]
  },
  {
   "cell_type": "code",
   "execution_count": 11,
   "id": "ca5f8d0f",
   "metadata": {},
   "outputs": [
    {
     "data": {
      "text/html": [
       "<table class=\"dataframe\">\n",
       "<caption>A tibble: 3 × 2</caption>\n",
       "<thead>\n",
       "\t<tr><th scope=col>Dataset</th><th scope=col>Number of ratings</th></tr>\n",
       "\t<tr><th scope=col>&lt;chr&gt;</th><th scope=col>&lt;int&gt;</th></tr>\n",
       "</thead>\n",
       "<tbody>\n",
       "\t<tr><td>mod_movies </td><td>10000054</td></tr>\n",
       "\t<tr><td>working_set</td><td> 9000047</td></tr>\n",
       "\t<tr><td>temp       </td><td> 1000007</td></tr>\n",
       "</tbody>\n",
       "</table>\n"
      ],
      "text/latex": [
       "A tibble: 3 × 2\n",
       "\\begin{tabular}{ll}\n",
       " Dataset & Number of ratings\\\\\n",
       " <chr> & <int>\\\\\n",
       "\\hline\n",
       "\t mod\\_movies  & 10000054\\\\\n",
       "\t working\\_set &  9000047\\\\\n",
       "\t temp        &  1000007\\\\\n",
       "\\end{tabular}\n"
      ],
      "text/markdown": [
       "\n",
       "A tibble: 3 × 2\n",
       "\n",
       "| Dataset &lt;chr&gt; | Number of ratings &lt;int&gt; |\n",
       "|---|---|\n",
       "| mod_movies  | 10000054 |\n",
       "| working_set |  9000047 |\n",
       "| temp        |  1000007 |\n",
       "\n"
      ],
      "text/plain": [
       "  Dataset     Number of ratings\n",
       "1 mod_movies  10000054         \n",
       "2 working_set  9000047         \n",
       "3 temp         1000007         "
      ]
     },
     "metadata": {},
     "output_type": "display_data"
    }
   ],
   "source": [
    "set.seed(1)\n",
    "test_set <- createDataPartition(y = mod_movies$rating, times = 1, p = 0.1, list = FALSE) \n",
    "working_set <- mod_movies[-test_set,]  \n",
    "temp <- mod_movies[test_set,]\n",
    "tibble(Dataset = c(\"mod_movies\", \"working_set\", \"temp\"),\n",
    "       \"Number of ratings\" = c(nrow(mod_movies), nrow(working_set), nrow(temp)))"
   ]
  },
  {
   "cell_type": "code",
   "execution_count": 12,
   "id": "35d1d838",
   "metadata": {},
   "outputs": [],
   "source": [
    "validation <- temp %>% \n",
    "      semi_join(working_set, by = \"movieId\") %>%\n",
    "      semi_join(working_set, by = \"userId\")"
   ]
  },
  {
   "cell_type": "code",
   "execution_count": 13,
   "id": "5b84d3c8",
   "metadata": {},
   "outputs": [
    {
     "name": "stderr",
     "output_type": "stream",
     "text": [
      "\u001b[1m\u001b[22mJoining with `by = join_by(userId, movieId, rating, timestamp, title, genres)`\n"
     ]
    }
   ],
   "source": [
    "removed <- anti_join(temp, validation)\n",
    "working_set <- rbind(working_set, removed)"
   ]
  },
  {
   "cell_type": "markdown",
   "id": "386bbeff",
   "metadata": {},
   "source": [
    "# Data exploration"
   ]
  },
  {
   "cell_type": "code",
   "execution_count": 14,
   "id": "e481c5e9",
   "metadata": {},
   "outputs": [
    {
     "data": {
      "text/html": [
       "<style>\n",
       ".list-inline {list-style: none; margin:0; padding: 0}\n",
       ".list-inline>li {display: inline-block}\n",
       ".list-inline>li:not(:last-child)::after {content: \"\\00b7\"; padding: 0 .5ex}\n",
       "</style>\n",
       "<ol class=list-inline><li>9000061</li><li>6</li></ol>\n"
      ],
      "text/latex": [
       "\\begin{enumerate*}\n",
       "\\item 9000061\n",
       "\\item 6\n",
       "\\end{enumerate*}\n"
      ],
      "text/markdown": [
       "1. 9000061\n",
       "2. 6\n",
       "\n",
       "\n"
      ],
      "text/plain": [
       "[1] 9000061       6"
      ]
     },
     "metadata": {},
     "output_type": "display_data"
    },
    {
     "data": {
      "text/html": [
       "<table class=\"dataframe\">\n",
       "<caption>A data.table: 9000061 × 6</caption>\n",
       "<thead>\n",
       "\t<tr><th scope=col>userId</th><th scope=col>movieId</th><th scope=col>rating</th><th scope=col>timestamp</th><th scope=col>title</th><th scope=col>genres</th></tr>\n",
       "\t<tr><th scope=col>&lt;int&gt;</th><th scope=col>&lt;int&gt;</th><th scope=col>&lt;dbl&gt;</th><th scope=col>&lt;int&gt;</th><th scope=col>&lt;chr&gt;</th><th scope=col>&lt;chr&gt;</th></tr>\n",
       "</thead>\n",
       "<tbody>\n",
       "\t<tr><td>1</td><td>122</td><td>5</td><td>838985046</td><td>Boomerang (1992)                                            </td><td>Comedy|Romance                            </td></tr>\n",
       "\t<tr><td>1</td><td>185</td><td>5</td><td>838983525</td><td>Net, The (1995)                                             </td><td>Action|Crime|Thriller                     </td></tr>\n",
       "\t<tr><td>1</td><td>231</td><td>5</td><td>838983392</td><td><span style=white-space:pre-wrap>Dumb &amp; Dumber (1994)                                        </span></td><td><span style=white-space:pre-wrap>Comedy                                    </span></td></tr>\n",
       "\t<tr><td>1</td><td>292</td><td>5</td><td>838983421</td><td>Outbreak (1995)                                             </td><td>Action|Drama|Sci-Fi|Thriller              </td></tr>\n",
       "\t<tr><td>1</td><td>316</td><td>5</td><td>838983392</td><td>Stargate (1994)                                             </td><td>Action|Adventure|Sci-Fi                   </td></tr>\n",
       "\t<tr><td>1</td><td>329</td><td>5</td><td>838983392</td><td>Star Trek: Generations (1994)                               </td><td>Action|Adventure|Drama|Sci-Fi             </td></tr>\n",
       "\t<tr><td>1</td><td>355</td><td>5</td><td>838984474</td><td>Flintstones, The (1994)                                     </td><td>Children|Comedy|Fantasy                   </td></tr>\n",
       "\t<tr><td>1</td><td>356</td><td>5</td><td>838983653</td><td>Forrest Gump (1994)                                         </td><td>Comedy|Drama|Romance|War                  </td></tr>\n",
       "\t<tr><td>1</td><td>362</td><td>5</td><td>838984885</td><td>Jungle Book, The (1994)                                     </td><td>Adventure|Children|Romance                </td></tr>\n",
       "\t<tr><td>1</td><td>364</td><td>5</td><td>838983707</td><td>Lion King, The (1994)                                       </td><td>Adventure|Animation|Children|Drama|Musical</td></tr>\n",
       "\t<tr><td>1</td><td>370</td><td>5</td><td>838984596</td><td>Naked Gun 33 1/3: The Final Insult (1994)                   </td><td>Action|Comedy                             </td></tr>\n",
       "\t<tr><td>1</td><td>377</td><td>5</td><td>838983834</td><td>Speed (1994)                                                </td><td>Action|Romance|Thriller                   </td></tr>\n",
       "\t<tr><td>1</td><td>420</td><td>5</td><td>838983834</td><td>Beverly Hills Cop III (1994)                                </td><td>Action|Comedy|Crime|Thriller              </td></tr>\n",
       "\t<tr><td>1</td><td>466</td><td>5</td><td>838984679</td><td>Hot Shots! Part Deux (1993)                                 </td><td>Action|Comedy|War                         </td></tr>\n",
       "\t<tr><td>1</td><td>480</td><td>5</td><td>838983653</td><td>Jurassic Park (1993)                                        </td><td>Action|Adventure|Sci-Fi|Thriller          </td></tr>\n",
       "\t<tr><td>1</td><td>520</td><td>5</td><td>838984679</td><td>Robin Hood: Men in Tights (1993)                            </td><td>Comedy                                    </td></tr>\n",
       "\t<tr><td>1</td><td>539</td><td>5</td><td>838984068</td><td>Sleepless in Seattle (1993)                                 </td><td>Comedy|Drama|Romance                      </td></tr>\n",
       "\t<tr><td>1</td><td>586</td><td>5</td><td>838984068</td><td>Home Alone (1990)                                           </td><td>Children|Comedy                           </td></tr>\n",
       "\t<tr><td>1</td><td>589</td><td>5</td><td>838983778</td><td>Terminator 2: Judgment Day (1991)                           </td><td>Action|Sci-Fi                             </td></tr>\n",
       "\t<tr><td>1</td><td>594</td><td>5</td><td>838984679</td><td>Snow White and the Seven Dwarfs (1937)                      </td><td>Animation|Children|Drama|Fantasy|Musical  </td></tr>\n",
       "\t<tr><td>1</td><td>616</td><td>5</td><td>838984941</td><td>Aristocats, The (1970)                                      </td><td>Animation|Children                        </td></tr>\n",
       "\t<tr><td>2</td><td>110</td><td>5</td><td>868245777</td><td>Braveheart (1995)                                           </td><td>Action|Drama|War                          </td></tr>\n",
       "\t<tr><td>2</td><td>151</td><td>3</td><td>868246450</td><td>Rob Roy (1995)                                              </td><td>Action|Drama|Romance|War                  </td></tr>\n",
       "\t<tr><td>2</td><td>260</td><td>5</td><td>868244562</td><td>Star Wars: Episode IV - A New Hope (a.k.a. Star Wars) (1977)</td><td>Action|Adventure|Sci-Fi                   </td></tr>\n",
       "\t<tr><td>2</td><td>376</td><td>3</td><td>868245920</td><td>River Wild, The (1994)                                      </td><td>Action|Thriller                           </td></tr>\n",
       "\t<tr><td>2</td><td>539</td><td>3</td><td>868246262</td><td>Sleepless in Seattle (1993)                                 </td><td>Comedy|Drama|Romance                      </td></tr>\n",
       "\t<tr><td>2</td><td>590</td><td>5</td><td>868245608</td><td>Dances with Wolves (1990)                                   </td><td>Adventure|Drama|Western                   </td></tr>\n",
       "\t<tr><td>2</td><td>648</td><td>2</td><td>868244699</td><td>Mission: Impossible (1996)                                  </td><td>Action|Adventure|Mystery|Thriller         </td></tr>\n",
       "\t<tr><td>2</td><td>719</td><td>3</td><td>868246191</td><td>Multiplicity (1996)                                         </td><td>Comedy                                    </td></tr>\n",
       "\t<tr><td>2</td><td>733</td><td>3</td><td>868244562</td><td>Rock, The (1996)                                            </td><td>Action|Adventure|Thriller                 </td></tr>\n",
       "\t<tr><td>⋮</td><td>⋮</td><td>⋮</td><td>⋮</td><td>⋮</td><td>⋮</td></tr>\n",
       "\t<tr><td>71567</td><td> 1805</td><td>4.0</td><td> 912649010</td><td>Wild Things (1998)                                   </td><td>Crime|Drama|Mystery|Thriller               </td></tr>\n",
       "\t<tr><td>71567</td><td> 1833</td><td>3.0</td><td> 912649171</td><td>Mercury Rising (1998)                                </td><td>Action|Drama|Thriller                      </td></tr>\n",
       "\t<tr><td>71567</td><td> 1876</td><td>3.0</td><td> 912580722</td><td>Deep Impact (1998)                                   </td><td>Drama|Sci-Fi|Thriller                      </td></tr>\n",
       "\t<tr><td>71567</td><td> 1909</td><td>2.0</td><td> 912580688</td><td>X-Files: Fight the Future, The (1998)                </td><td>Action|Crime|Mystery|Sci-Fi|Thriller       </td></tr>\n",
       "\t<tr><td>71567</td><td> 1917</td><td>4.0</td><td> 912580787</td><td>Armageddon (1998)                                    </td><td>Action|Romance|Sci-Fi|Thriller             </td></tr>\n",
       "\t<tr><td>71567</td><td> 1920</td><td>4.0</td><td> 912578247</td><td>Small Soldiers (1998)                                </td><td>Animation|Children|Fantasy|War             </td></tr>\n",
       "\t<tr><td>71567</td><td> 1984</td><td>1.0</td><td> 912580553</td><td>Halloween III: Season of the Witch (1982)            </td><td>Horror                                     </td></tr>\n",
       "\t<tr><td>71567</td><td> 1985</td><td>1.0</td><td> 912580553</td><td>Halloween 4: The Return of Michael Myers (1988)      </td><td>Horror                                     </td></tr>\n",
       "\t<tr><td>71567</td><td> 1986</td><td>1.0</td><td> 912580553</td><td>Halloween 5: The Revenge of Michael Myers (1989)     </td><td>Horror                                     </td></tr>\n",
       "\t<tr><td>71567</td><td> 2012</td><td>3.0</td><td> 912580722</td><td>Back to the Future Part III (1990)                   </td><td>Comedy|Sci-Fi|Western                      </td></tr>\n",
       "\t<tr><td>71567</td><td> 2028</td><td>5.0</td><td> 912580344</td><td>Saving Private Ryan (1998)                           </td><td>Action|Drama|War                           </td></tr>\n",
       "\t<tr><td>71567</td><td> 2107</td><td>1.0</td><td> 912580553</td><td>Halloween H20: 20 Years Later (1998)                 </td><td>Horror|Thriller                            </td></tr>\n",
       "\t<tr><td>71567</td><td> 2126</td><td>2.0</td><td> 912649143</td><td>Snake Eyes (1998)                                    </td><td>Action|Crime|Mystery|Thriller              </td></tr>\n",
       "\t<tr><td>71567</td><td> 2294</td><td>5.0</td><td> 912577968</td><td>Antz (1998)                                          </td><td>Adventure|Animation|Children|Comedy|Fantasy</td></tr>\n",
       "\t<tr><td>71567</td><td> 2338</td><td>2.0</td><td> 912578016</td><td>I Still Know What You Did Last Summer (1998)         </td><td>Horror|Mystery|Thriller                    </td></tr>\n",
       "\t<tr><td>71567</td><td> 2384</td><td>2.0</td><td> 912578173</td><td>Babe: Pig in the City (1998)                         </td><td>Children|Comedy                            </td></tr>\n",
       "\t<tr><td>22802</td><td>62237</td><td>3.5</td><td>1223980874</td><td>Part of the Weekend Never Dies (2008)                </td><td>Documentary                                </td></tr>\n",
       "\t<tr><td>22842</td><td>62063</td><td>3.0</td><td>1224915851</td><td>Dead Man's Letters (Pisma myortvogo cheloveka) (1986)</td><td>Drama|Film-Noir                            </td></tr>\n",
       "\t<tr><td>23140</td><td>39439</td><td>3.5</td><td>1159527126</td><td>God's Sandbox (Tahara) (2002)                        </td><td>Drama                                      </td></tr>\n",
       "\t<tr><td>27946</td><td>61950</td><td>4.0</td><td>1222693334</td><td>Boot Camp (2007)                                     </td><td>Thriller                                   </td></tr>\n",
       "\t<tr><td>27946</td><td>63327</td><td>3.0</td><td>1226730298</td><td>Säg att du älskar mig (2006)                         </td><td>Drama                                      </td></tr>\n",
       "\t<tr><td>30445</td><td> 8394</td><td>0.5</td><td>1200074027</td><td>Hi-Line, The (1999)                                  </td><td>Drama                                      </td></tr>\n",
       "\t<tr><td>40976</td><td>61913</td><td>3.0</td><td>1227767528</td><td>Africa addio (1966)                                  </td><td>Documentary                                </td></tr>\n",
       "\t<tr><td>50035</td><td> 7568</td><td>3.5</td><td>1206386494</td><td>Love Life (2001)                                     </td><td>Comedy|Romance                             </td></tr>\n",
       "\t<tr><td>56915</td><td>62245</td><td>4.0</td><td>1223985447</td><td>Music Room, The (Jalsaghar) (1958)                   </td><td>Drama                                      </td></tr>\n",
       "\t<tr><td>59269</td><td>59680</td><td>3.0</td><td>1229014701</td><td>One Hour with You (1932)                             </td><td>Comedy|Musical|Romance                     </td></tr>\n",
       "\t<tr><td>59269</td><td>64325</td><td>3.0</td><td>1229014646</td><td>Long Night, The (1947)                               </td><td>Crime|Drama|Film-Noir|Romance|Thriller     </td></tr>\n",
       "\t<tr><td>59342</td><td>61768</td><td>0.5</td><td>1230070861</td><td>Accused (Anklaget) (2005)                            </td><td>Drama                                      </td></tr>\n",
       "\t<tr><td>60713</td><td> 4820</td><td>2.0</td><td>1119156754</td><td>Won't Anybody Listen? (2000)                         </td><td>Documentary                                </td></tr>\n",
       "\t<tr><td>68986</td><td>61950</td><td>3.5</td><td>1223376391</td><td>Boot Camp (2007)                                     </td><td>Thriller                                   </td></tr>\n",
       "</tbody>\n",
       "</table>\n"
      ],
      "text/latex": [
       "A data.table: 9000061 × 6\n",
       "\\begin{tabular}{llllll}\n",
       " userId & movieId & rating & timestamp & title & genres\\\\\n",
       " <int> & <int> & <dbl> & <int> & <chr> & <chr>\\\\\n",
       "\\hline\n",
       "\t 1 & 122 & 5 & 838985046 & Boomerang (1992)                                             & Comedy\\textbar{}Romance                            \\\\\n",
       "\t 1 & 185 & 5 & 838983525 & Net, The (1995)                                              & Action\\textbar{}Crime\\textbar{}Thriller                     \\\\\n",
       "\t 1 & 231 & 5 & 838983392 & Dumb \\& Dumber (1994)                                         & Comedy                                    \\\\\n",
       "\t 1 & 292 & 5 & 838983421 & Outbreak (1995)                                              & Action\\textbar{}Drama\\textbar{}Sci-Fi\\textbar{}Thriller              \\\\\n",
       "\t 1 & 316 & 5 & 838983392 & Stargate (1994)                                              & Action\\textbar{}Adventure\\textbar{}Sci-Fi                   \\\\\n",
       "\t 1 & 329 & 5 & 838983392 & Star Trek: Generations (1994)                                & Action\\textbar{}Adventure\\textbar{}Drama\\textbar{}Sci-Fi             \\\\\n",
       "\t 1 & 355 & 5 & 838984474 & Flintstones, The (1994)                                      & Children\\textbar{}Comedy\\textbar{}Fantasy                   \\\\\n",
       "\t 1 & 356 & 5 & 838983653 & Forrest Gump (1994)                                          & Comedy\\textbar{}Drama\\textbar{}Romance\\textbar{}War                  \\\\\n",
       "\t 1 & 362 & 5 & 838984885 & Jungle Book, The (1994)                                      & Adventure\\textbar{}Children\\textbar{}Romance                \\\\\n",
       "\t 1 & 364 & 5 & 838983707 & Lion King, The (1994)                                        & Adventure\\textbar{}Animation\\textbar{}Children\\textbar{}Drama\\textbar{}Musical\\\\\n",
       "\t 1 & 370 & 5 & 838984596 & Naked Gun 33 1/3: The Final Insult (1994)                    & Action\\textbar{}Comedy                             \\\\\n",
       "\t 1 & 377 & 5 & 838983834 & Speed (1994)                                                 & Action\\textbar{}Romance\\textbar{}Thriller                   \\\\\n",
       "\t 1 & 420 & 5 & 838983834 & Beverly Hills Cop III (1994)                                 & Action\\textbar{}Comedy\\textbar{}Crime\\textbar{}Thriller              \\\\\n",
       "\t 1 & 466 & 5 & 838984679 & Hot Shots! Part Deux (1993)                                  & Action\\textbar{}Comedy\\textbar{}War                         \\\\\n",
       "\t 1 & 480 & 5 & 838983653 & Jurassic Park (1993)                                         & Action\\textbar{}Adventure\\textbar{}Sci-Fi\\textbar{}Thriller          \\\\\n",
       "\t 1 & 520 & 5 & 838984679 & Robin Hood: Men in Tights (1993)                             & Comedy                                    \\\\\n",
       "\t 1 & 539 & 5 & 838984068 & Sleepless in Seattle (1993)                                  & Comedy\\textbar{}Drama\\textbar{}Romance                      \\\\\n",
       "\t 1 & 586 & 5 & 838984068 & Home Alone (1990)                                            & Children\\textbar{}Comedy                           \\\\\n",
       "\t 1 & 589 & 5 & 838983778 & Terminator 2: Judgment Day (1991)                            & Action\\textbar{}Sci-Fi                             \\\\\n",
       "\t 1 & 594 & 5 & 838984679 & Snow White and the Seven Dwarfs (1937)                       & Animation\\textbar{}Children\\textbar{}Drama\\textbar{}Fantasy\\textbar{}Musical  \\\\\n",
       "\t 1 & 616 & 5 & 838984941 & Aristocats, The (1970)                                       & Animation\\textbar{}Children                        \\\\\n",
       "\t 2 & 110 & 5 & 868245777 & Braveheart (1995)                                            & Action\\textbar{}Drama\\textbar{}War                          \\\\\n",
       "\t 2 & 151 & 3 & 868246450 & Rob Roy (1995)                                               & Action\\textbar{}Drama\\textbar{}Romance\\textbar{}War                  \\\\\n",
       "\t 2 & 260 & 5 & 868244562 & Star Wars: Episode IV - A New Hope (a.k.a. Star Wars) (1977) & Action\\textbar{}Adventure\\textbar{}Sci-Fi                   \\\\\n",
       "\t 2 & 376 & 3 & 868245920 & River Wild, The (1994)                                       & Action\\textbar{}Thriller                           \\\\\n",
       "\t 2 & 539 & 3 & 868246262 & Sleepless in Seattle (1993)                                  & Comedy\\textbar{}Drama\\textbar{}Romance                      \\\\\n",
       "\t 2 & 590 & 5 & 868245608 & Dances with Wolves (1990)                                    & Adventure\\textbar{}Drama\\textbar{}Western                   \\\\\n",
       "\t 2 & 648 & 2 & 868244699 & Mission: Impossible (1996)                                   & Action\\textbar{}Adventure\\textbar{}Mystery\\textbar{}Thriller         \\\\\n",
       "\t 2 & 719 & 3 & 868246191 & Multiplicity (1996)                                          & Comedy                                    \\\\\n",
       "\t 2 & 733 & 3 & 868244562 & Rock, The (1996)                                             & Action\\textbar{}Adventure\\textbar{}Thriller                 \\\\\n",
       "\t ⋮ & ⋮ & ⋮ & ⋮ & ⋮ & ⋮\\\\\n",
       "\t 71567 &  1805 & 4.0 &  912649010 & Wild Things (1998)                                    & Crime\\textbar{}Drama\\textbar{}Mystery\\textbar{}Thriller               \\\\\n",
       "\t 71567 &  1833 & 3.0 &  912649171 & Mercury Rising (1998)                                 & Action\\textbar{}Drama\\textbar{}Thriller                      \\\\\n",
       "\t 71567 &  1876 & 3.0 &  912580722 & Deep Impact (1998)                                    & Drama\\textbar{}Sci-Fi\\textbar{}Thriller                      \\\\\n",
       "\t 71567 &  1909 & 2.0 &  912580688 & X-Files: Fight the Future, The (1998)                 & Action\\textbar{}Crime\\textbar{}Mystery\\textbar{}Sci-Fi\\textbar{}Thriller       \\\\\n",
       "\t 71567 &  1917 & 4.0 &  912580787 & Armageddon (1998)                                     & Action\\textbar{}Romance\\textbar{}Sci-Fi\\textbar{}Thriller             \\\\\n",
       "\t 71567 &  1920 & 4.0 &  912578247 & Small Soldiers (1998)                                 & Animation\\textbar{}Children\\textbar{}Fantasy\\textbar{}War             \\\\\n",
       "\t 71567 &  1984 & 1.0 &  912580553 & Halloween III: Season of the Witch (1982)             & Horror                                     \\\\\n",
       "\t 71567 &  1985 & 1.0 &  912580553 & Halloween 4: The Return of Michael Myers (1988)       & Horror                                     \\\\\n",
       "\t 71567 &  1986 & 1.0 &  912580553 & Halloween 5: The Revenge of Michael Myers (1989)      & Horror                                     \\\\\n",
       "\t 71567 &  2012 & 3.0 &  912580722 & Back to the Future Part III (1990)                    & Comedy\\textbar{}Sci-Fi\\textbar{}Western                      \\\\\n",
       "\t 71567 &  2028 & 5.0 &  912580344 & Saving Private Ryan (1998)                            & Action\\textbar{}Drama\\textbar{}War                           \\\\\n",
       "\t 71567 &  2107 & 1.0 &  912580553 & Halloween H20: 20 Years Later (1998)                  & Horror\\textbar{}Thriller                            \\\\\n",
       "\t 71567 &  2126 & 2.0 &  912649143 & Snake Eyes (1998)                                     & Action\\textbar{}Crime\\textbar{}Mystery\\textbar{}Thriller              \\\\\n",
       "\t 71567 &  2294 & 5.0 &  912577968 & Antz (1998)                                           & Adventure\\textbar{}Animation\\textbar{}Children\\textbar{}Comedy\\textbar{}Fantasy\\\\\n",
       "\t 71567 &  2338 & 2.0 &  912578016 & I Still Know What You Did Last Summer (1998)          & Horror\\textbar{}Mystery\\textbar{}Thriller                    \\\\\n",
       "\t 71567 &  2384 & 2.0 &  912578173 & Babe: Pig in the City (1998)                          & Children\\textbar{}Comedy                            \\\\\n",
       "\t 22802 & 62237 & 3.5 & 1223980874 & Part of the Weekend Never Dies (2008)                 & Documentary                                \\\\\n",
       "\t 22842 & 62063 & 3.0 & 1224915851 & Dead Man's Letters (Pisma myortvogo cheloveka) (1986) & Drama\\textbar{}Film-Noir                            \\\\\n",
       "\t 23140 & 39439 & 3.5 & 1159527126 & God's Sandbox (Tahara) (2002)                         & Drama                                      \\\\\n",
       "\t 27946 & 61950 & 4.0 & 1222693334 & Boot Camp (2007)                                      & Thriller                                   \\\\\n",
       "\t 27946 & 63327 & 3.0 & 1226730298 & Säg att du älskar mig (2006)                          & Drama                                      \\\\\n",
       "\t 30445 &  8394 & 0.5 & 1200074027 & Hi-Line, The (1999)                                   & Drama                                      \\\\\n",
       "\t 40976 & 61913 & 3.0 & 1227767528 & Africa addio (1966)                                   & Documentary                                \\\\\n",
       "\t 50035 &  7568 & 3.5 & 1206386494 & Love Life (2001)                                      & Comedy\\textbar{}Romance                             \\\\\n",
       "\t 56915 & 62245 & 4.0 & 1223985447 & Music Room, The (Jalsaghar) (1958)                    & Drama                                      \\\\\n",
       "\t 59269 & 59680 & 3.0 & 1229014701 & One Hour with You (1932)                              & Comedy\\textbar{}Musical\\textbar{}Romance                     \\\\\n",
       "\t 59269 & 64325 & 3.0 & 1229014646 & Long Night, The (1947)                                & Crime\\textbar{}Drama\\textbar{}Film-Noir\\textbar{}Romance\\textbar{}Thriller     \\\\\n",
       "\t 59342 & 61768 & 0.5 & 1230070861 & Accused (Anklaget) (2005)                             & Drama                                      \\\\\n",
       "\t 60713 &  4820 & 2.0 & 1119156754 & Won't Anybody Listen? (2000)                          & Documentary                                \\\\\n",
       "\t 68986 & 61950 & 3.5 & 1223376391 & Boot Camp (2007)                                      & Thriller                                   \\\\\n",
       "\\end{tabular}\n"
      ],
      "text/markdown": [
       "\n",
       "A data.table: 9000061 × 6\n",
       "\n",
       "| userId &lt;int&gt; | movieId &lt;int&gt; | rating &lt;dbl&gt; | timestamp &lt;int&gt; | title &lt;chr&gt; | genres &lt;chr&gt; |\n",
       "|---|---|---|---|---|---|\n",
       "| 1 | 122 | 5 | 838985046 | Boomerang (1992)                                             | Comedy|Romance                             |\n",
       "| 1 | 185 | 5 | 838983525 | Net, The (1995)                                              | Action|Crime|Thriller                      |\n",
       "| 1 | 231 | 5 | 838983392 | Dumb &amp; Dumber (1994)                                         | Comedy                                     |\n",
       "| 1 | 292 | 5 | 838983421 | Outbreak (1995)                                              | Action|Drama|Sci-Fi|Thriller               |\n",
       "| 1 | 316 | 5 | 838983392 | Stargate (1994)                                              | Action|Adventure|Sci-Fi                    |\n",
       "| 1 | 329 | 5 | 838983392 | Star Trek: Generations (1994)                                | Action|Adventure|Drama|Sci-Fi              |\n",
       "| 1 | 355 | 5 | 838984474 | Flintstones, The (1994)                                      | Children|Comedy|Fantasy                    |\n",
       "| 1 | 356 | 5 | 838983653 | Forrest Gump (1994)                                          | Comedy|Drama|Romance|War                   |\n",
       "| 1 | 362 | 5 | 838984885 | Jungle Book, The (1994)                                      | Adventure|Children|Romance                 |\n",
       "| 1 | 364 | 5 | 838983707 | Lion King, The (1994)                                        | Adventure|Animation|Children|Drama|Musical |\n",
       "| 1 | 370 | 5 | 838984596 | Naked Gun 33 1/3: The Final Insult (1994)                    | Action|Comedy                              |\n",
       "| 1 | 377 | 5 | 838983834 | Speed (1994)                                                 | Action|Romance|Thriller                    |\n",
       "| 1 | 420 | 5 | 838983834 | Beverly Hills Cop III (1994)                                 | Action|Comedy|Crime|Thriller               |\n",
       "| 1 | 466 | 5 | 838984679 | Hot Shots! Part Deux (1993)                                  | Action|Comedy|War                          |\n",
       "| 1 | 480 | 5 | 838983653 | Jurassic Park (1993)                                         | Action|Adventure|Sci-Fi|Thriller           |\n",
       "| 1 | 520 | 5 | 838984679 | Robin Hood: Men in Tights (1993)                             | Comedy                                     |\n",
       "| 1 | 539 | 5 | 838984068 | Sleepless in Seattle (1993)                                  | Comedy|Drama|Romance                       |\n",
       "| 1 | 586 | 5 | 838984068 | Home Alone (1990)                                            | Children|Comedy                            |\n",
       "| 1 | 589 | 5 | 838983778 | Terminator 2: Judgment Day (1991)                            | Action|Sci-Fi                              |\n",
       "| 1 | 594 | 5 | 838984679 | Snow White and the Seven Dwarfs (1937)                       | Animation|Children|Drama|Fantasy|Musical   |\n",
       "| 1 | 616 | 5 | 838984941 | Aristocats, The (1970)                                       | Animation|Children                         |\n",
       "| 2 | 110 | 5 | 868245777 | Braveheart (1995)                                            | Action|Drama|War                           |\n",
       "| 2 | 151 | 3 | 868246450 | Rob Roy (1995)                                               | Action|Drama|Romance|War                   |\n",
       "| 2 | 260 | 5 | 868244562 | Star Wars: Episode IV - A New Hope (a.k.a. Star Wars) (1977) | Action|Adventure|Sci-Fi                    |\n",
       "| 2 | 376 | 3 | 868245920 | River Wild, The (1994)                                       | Action|Thriller                            |\n",
       "| 2 | 539 | 3 | 868246262 | Sleepless in Seattle (1993)                                  | Comedy|Drama|Romance                       |\n",
       "| 2 | 590 | 5 | 868245608 | Dances with Wolves (1990)                                    | Adventure|Drama|Western                    |\n",
       "| 2 | 648 | 2 | 868244699 | Mission: Impossible (1996)                                   | Action|Adventure|Mystery|Thriller          |\n",
       "| 2 | 719 | 3 | 868246191 | Multiplicity (1996)                                          | Comedy                                     |\n",
       "| 2 | 733 | 3 | 868244562 | Rock, The (1996)                                             | Action|Adventure|Thriller                  |\n",
       "| ⋮ | ⋮ | ⋮ | ⋮ | ⋮ | ⋮ |\n",
       "| 71567 |  1805 | 4.0 |  912649010 | Wild Things (1998)                                    | Crime|Drama|Mystery|Thriller                |\n",
       "| 71567 |  1833 | 3.0 |  912649171 | Mercury Rising (1998)                                 | Action|Drama|Thriller                       |\n",
       "| 71567 |  1876 | 3.0 |  912580722 | Deep Impact (1998)                                    | Drama|Sci-Fi|Thriller                       |\n",
       "| 71567 |  1909 | 2.0 |  912580688 | X-Files: Fight the Future, The (1998)                 | Action|Crime|Mystery|Sci-Fi|Thriller        |\n",
       "| 71567 |  1917 | 4.0 |  912580787 | Armageddon (1998)                                     | Action|Romance|Sci-Fi|Thriller              |\n",
       "| 71567 |  1920 | 4.0 |  912578247 | Small Soldiers (1998)                                 | Animation|Children|Fantasy|War              |\n",
       "| 71567 |  1984 | 1.0 |  912580553 | Halloween III: Season of the Witch (1982)             | Horror                                      |\n",
       "| 71567 |  1985 | 1.0 |  912580553 | Halloween 4: The Return of Michael Myers (1988)       | Horror                                      |\n",
       "| 71567 |  1986 | 1.0 |  912580553 | Halloween 5: The Revenge of Michael Myers (1989)      | Horror                                      |\n",
       "| 71567 |  2012 | 3.0 |  912580722 | Back to the Future Part III (1990)                    | Comedy|Sci-Fi|Western                       |\n",
       "| 71567 |  2028 | 5.0 |  912580344 | Saving Private Ryan (1998)                            | Action|Drama|War                            |\n",
       "| 71567 |  2107 | 1.0 |  912580553 | Halloween H20: 20 Years Later (1998)                  | Horror|Thriller                             |\n",
       "| 71567 |  2126 | 2.0 |  912649143 | Snake Eyes (1998)                                     | Action|Crime|Mystery|Thriller               |\n",
       "| 71567 |  2294 | 5.0 |  912577968 | Antz (1998)                                           | Adventure|Animation|Children|Comedy|Fantasy |\n",
       "| 71567 |  2338 | 2.0 |  912578016 | I Still Know What You Did Last Summer (1998)          | Horror|Mystery|Thriller                     |\n",
       "| 71567 |  2384 | 2.0 |  912578173 | Babe: Pig in the City (1998)                          | Children|Comedy                             |\n",
       "| 22802 | 62237 | 3.5 | 1223980874 | Part of the Weekend Never Dies (2008)                 | Documentary                                 |\n",
       "| 22842 | 62063 | 3.0 | 1224915851 | Dead Man's Letters (Pisma myortvogo cheloveka) (1986) | Drama|Film-Noir                             |\n",
       "| 23140 | 39439 | 3.5 | 1159527126 | God's Sandbox (Tahara) (2002)                         | Drama                                       |\n",
       "| 27946 | 61950 | 4.0 | 1222693334 | Boot Camp (2007)                                      | Thriller                                    |\n",
       "| 27946 | 63327 | 3.0 | 1226730298 | Säg att du älskar mig (2006)                          | Drama                                       |\n",
       "| 30445 |  8394 | 0.5 | 1200074027 | Hi-Line, The (1999)                                   | Drama                                       |\n",
       "| 40976 | 61913 | 3.0 | 1227767528 | Africa addio (1966)                                   | Documentary                                 |\n",
       "| 50035 |  7568 | 3.5 | 1206386494 | Love Life (2001)                                      | Comedy|Romance                              |\n",
       "| 56915 | 62245 | 4.0 | 1223985447 | Music Room, The (Jalsaghar) (1958)                    | Drama                                       |\n",
       "| 59269 | 59680 | 3.0 | 1229014701 | One Hour with You (1932)                              | Comedy|Musical|Romance                      |\n",
       "| 59269 | 64325 | 3.0 | 1229014646 | Long Night, The (1947)                                | Crime|Drama|Film-Noir|Romance|Thriller      |\n",
       "| 59342 | 61768 | 0.5 | 1230070861 | Accused (Anklaget) (2005)                             | Drama                                       |\n",
       "| 60713 |  4820 | 2.0 | 1119156754 | Won't Anybody Listen? (2000)                          | Documentary                                 |\n",
       "| 68986 | 61950 | 3.5 | 1223376391 | Boot Camp (2007)                                      | Thriller                                    |\n",
       "\n"
      ],
      "text/plain": [
       "        userId movieId rating timestamp \n",
       "1       1      122     5      838985046 \n",
       "2       1      185     5      838983525 \n",
       "3       1      231     5      838983392 \n",
       "4       1      292     5      838983421 \n",
       "5       1      316     5      838983392 \n",
       "6       1      329     5      838983392 \n",
       "7       1      355     5      838984474 \n",
       "8       1      356     5      838983653 \n",
       "9       1      362     5      838984885 \n",
       "10      1      364     5      838983707 \n",
       "11      1      370     5      838984596 \n",
       "12      1      377     5      838983834 \n",
       "13      1      420     5      838983834 \n",
       "14      1      466     5      838984679 \n",
       "15      1      480     5      838983653 \n",
       "16      1      520     5      838984679 \n",
       "17      1      539     5      838984068 \n",
       "18      1      586     5      838984068 \n",
       "19      1      589     5      838983778 \n",
       "20      1      594     5      838984679 \n",
       "21      1      616     5      838984941 \n",
       "22      2      110     5      868245777 \n",
       "23      2      151     3      868246450 \n",
       "24      2      260     5      868244562 \n",
       "25      2      376     3      868245920 \n",
       "26      2      539     3      868246262 \n",
       "27      2      590     5      868245608 \n",
       "28      2      648     2      868244699 \n",
       "29      2      719     3      868246191 \n",
       "30      2      733     3      868244562 \n",
       "⋮       ⋮      ⋮       ⋮      ⋮         \n",
       "9000032 71567   1805   4.0     912649010\n",
       "9000033 71567   1833   3.0     912649171\n",
       "9000034 71567   1876   3.0     912580722\n",
       "9000035 71567   1909   2.0     912580688\n",
       "9000036 71567   1917   4.0     912580787\n",
       "9000037 71567   1920   4.0     912578247\n",
       "9000038 71567   1984   1.0     912580553\n",
       "9000039 71567   1985   1.0     912580553\n",
       "9000040 71567   1986   1.0     912580553\n",
       "9000041 71567   2012   3.0     912580722\n",
       "9000042 71567   2028   5.0     912580344\n",
       "9000043 71567   2107   1.0     912580553\n",
       "9000044 71567   2126   2.0     912649143\n",
       "9000045 71567   2294   5.0     912577968\n",
       "9000046 71567   2338   2.0     912578016\n",
       "9000047 71567   2384   2.0     912578173\n",
       "9000048 22802  62237   3.5    1223980874\n",
       "9000049 22842  62063   3.0    1224915851\n",
       "9000050 23140  39439   3.5    1159527126\n",
       "9000051 27946  61950   4.0    1222693334\n",
       "9000052 27946  63327   3.0    1226730298\n",
       "9000053 30445   8394   0.5    1200074027\n",
       "9000054 40976  61913   3.0    1227767528\n",
       "9000055 50035   7568   3.5    1206386494\n",
       "9000056 56915  62245   4.0    1223985447\n",
       "9000057 59269  59680   3.0    1229014701\n",
       "9000058 59269  64325   3.0    1229014646\n",
       "9000059 59342  61768   0.5    1230070861\n",
       "9000060 60713   4820   2.0    1119156754\n",
       "9000061 68986  61950   3.5    1223376391\n",
       "        title                                                       \n",
       "1       Boomerang (1992)                                            \n",
       "2       Net, The (1995)                                             \n",
       "3       Dumb & Dumber (1994)                                        \n",
       "4       Outbreak (1995)                                             \n",
       "5       Stargate (1994)                                             \n",
       "6       Star Trek: Generations (1994)                               \n",
       "7       Flintstones, The (1994)                                     \n",
       "8       Forrest Gump (1994)                                         \n",
       "9       Jungle Book, The (1994)                                     \n",
       "10      Lion King, The (1994)                                       \n",
       "11      Naked Gun 33 1/3: The Final Insult (1994)                   \n",
       "12      Speed (1994)                                                \n",
       "13      Beverly Hills Cop III (1994)                                \n",
       "14      Hot Shots! Part Deux (1993)                                 \n",
       "15      Jurassic Park (1993)                                        \n",
       "16      Robin Hood: Men in Tights (1993)                            \n",
       "17      Sleepless in Seattle (1993)                                 \n",
       "18      Home Alone (1990)                                           \n",
       "19      Terminator 2: Judgment Day (1991)                           \n",
       "20      Snow White and the Seven Dwarfs (1937)                      \n",
       "21      Aristocats, The (1970)                                      \n",
       "22      Braveheart (1995)                                           \n",
       "23      Rob Roy (1995)                                              \n",
       "24      Star Wars: Episode IV - A New Hope (a.k.a. Star Wars) (1977)\n",
       "25      River Wild, The (1994)                                      \n",
       "26      Sleepless in Seattle (1993)                                 \n",
       "27      Dances with Wolves (1990)                                   \n",
       "28      Mission: Impossible (1996)                                  \n",
       "29      Multiplicity (1996)                                         \n",
       "30      Rock, The (1996)                                            \n",
       "⋮       ⋮                                                           \n",
       "9000032 Wild Things (1998)                                          \n",
       "9000033 Mercury Rising (1998)                                       \n",
       "9000034 Deep Impact (1998)                                          \n",
       "9000035 X-Files: Fight the Future, The (1998)                       \n",
       "9000036 Armageddon (1998)                                           \n",
       "9000037 Small Soldiers (1998)                                       \n",
       "9000038 Halloween III: Season of the Witch (1982)                   \n",
       "9000039 Halloween 4: The Return of Michael Myers (1988)             \n",
       "9000040 Halloween 5: The Revenge of Michael Myers (1989)            \n",
       "9000041 Back to the Future Part III (1990)                          \n",
       "9000042 Saving Private Ryan (1998)                                  \n",
       "9000043 Halloween H20: 20 Years Later (1998)                        \n",
       "9000044 Snake Eyes (1998)                                           \n",
       "9000045 Antz (1998)                                                 \n",
       "9000046 I Still Know What You Did Last Summer (1998)                \n",
       "9000047 Babe: Pig in the City (1998)                                \n",
       "9000048 Part of the Weekend Never Dies (2008)                       \n",
       "9000049 Dead Man's Letters (Pisma myortvogo cheloveka) (1986)       \n",
       "9000050 God's Sandbox (Tahara) (2002)                               \n",
       "9000051 Boot Camp (2007)                                            \n",
       "9000052 Säg att du älskar mig (2006)                                \n",
       "9000053 Hi-Line, The (1999)                                         \n",
       "9000054 Africa addio (1966)                                         \n",
       "9000055 Love Life (2001)                                            \n",
       "9000056 Music Room, The (Jalsaghar) (1958)                          \n",
       "9000057 One Hour with You (1932)                                    \n",
       "9000058 Long Night, The (1947)                                      \n",
       "9000059 Accused (Anklaget) (2005)                                   \n",
       "9000060 Won't Anybody Listen? (2000)                                \n",
       "9000061 Boot Camp (2007)                                            \n",
       "        genres                                     \n",
       "1       Comedy|Romance                             \n",
       "2       Action|Crime|Thriller                      \n",
       "3       Comedy                                     \n",
       "4       Action|Drama|Sci-Fi|Thriller               \n",
       "5       Action|Adventure|Sci-Fi                    \n",
       "6       Action|Adventure|Drama|Sci-Fi              \n",
       "7       Children|Comedy|Fantasy                    \n",
       "8       Comedy|Drama|Romance|War                   \n",
       "9       Adventure|Children|Romance                 \n",
       "10      Adventure|Animation|Children|Drama|Musical \n",
       "11      Action|Comedy                              \n",
       "12      Action|Romance|Thriller                    \n",
       "13      Action|Comedy|Crime|Thriller               \n",
       "14      Action|Comedy|War                          \n",
       "15      Action|Adventure|Sci-Fi|Thriller           \n",
       "16      Comedy                                     \n",
       "17      Comedy|Drama|Romance                       \n",
       "18      Children|Comedy                            \n",
       "19      Action|Sci-Fi                              \n",
       "20      Animation|Children|Drama|Fantasy|Musical   \n",
       "21      Animation|Children                         \n",
       "22      Action|Drama|War                           \n",
       "23      Action|Drama|Romance|War                   \n",
       "24      Action|Adventure|Sci-Fi                    \n",
       "25      Action|Thriller                            \n",
       "26      Comedy|Drama|Romance                       \n",
       "27      Adventure|Drama|Western                    \n",
       "28      Action|Adventure|Mystery|Thriller          \n",
       "29      Comedy                                     \n",
       "30      Action|Adventure|Thriller                  \n",
       "⋮       ⋮                                          \n",
       "9000032 Crime|Drama|Mystery|Thriller               \n",
       "9000033 Action|Drama|Thriller                      \n",
       "9000034 Drama|Sci-Fi|Thriller                      \n",
       "9000035 Action|Crime|Mystery|Sci-Fi|Thriller       \n",
       "9000036 Action|Romance|Sci-Fi|Thriller             \n",
       "9000037 Animation|Children|Fantasy|War             \n",
       "9000038 Horror                                     \n",
       "9000039 Horror                                     \n",
       "9000040 Horror                                     \n",
       "9000041 Comedy|Sci-Fi|Western                      \n",
       "9000042 Action|Drama|War                           \n",
       "9000043 Horror|Thriller                            \n",
       "9000044 Action|Crime|Mystery|Thriller              \n",
       "9000045 Adventure|Animation|Children|Comedy|Fantasy\n",
       "9000046 Horror|Mystery|Thriller                    \n",
       "9000047 Children|Comedy                            \n",
       "9000048 Documentary                                \n",
       "9000049 Drama|Film-Noir                            \n",
       "9000050 Drama                                      \n",
       "9000051 Thriller                                   \n",
       "9000052 Drama                                      \n",
       "9000053 Drama                                      \n",
       "9000054 Documentary                                \n",
       "9000055 Comedy|Romance                             \n",
       "9000056 Drama                                      \n",
       "9000057 Comedy|Musical|Romance                     \n",
       "9000058 Crime|Drama|Film-Noir|Romance|Thriller     \n",
       "9000059 Drama                                      \n",
       "9000060 Documentary                                \n",
       "9000061 Thriller                                   "
      ]
     },
     "metadata": {},
     "output_type": "display_data"
    }
   ],
   "source": [
    "dim(working_set)\n",
    "structure(working_set)\n"
   ]
  },
  {
   "cell_type": "code",
   "execution_count": 15,
   "id": "5053d32b",
   "metadata": {},
   "outputs": [
    {
     "data": {
      "text/plain": [
       "     userId         movieId          rating        timestamp        \n",
       " Min.   :    1   Min.   :    1   Min.   :0.500   Min.   :7.897e+08  \n",
       " 1st Qu.:18122   1st Qu.:  648   1st Qu.:3.000   1st Qu.:9.468e+08  \n",
       " Median :35743   Median : 1834   Median :4.000   Median :1.035e+09  \n",
       " Mean   :35869   Mean   : 4120   Mean   :3.512   Mean   :1.033e+09  \n",
       " 3rd Qu.:53602   3rd Qu.: 3624   3rd Qu.:4.000   3rd Qu.:1.127e+09  \n",
       " Max.   :71567   Max.   :65133   Max.   :5.000   Max.   :1.231e+09  \n",
       "    title              genres         \n",
       " Length:9000061     Length:9000061    \n",
       " Class :character   Class :character  \n",
       " Mode  :character   Mode  :character  \n",
       "                                      \n",
       "                                      \n",
       "                                      "
      ]
     },
     "metadata": {},
     "output_type": "display_data"
    }
   ],
   "source": [
    "summary(working_set)\n"
   ]
  },
  {
   "cell_type": "markdown",
   "id": "2f5cf129",
   "metadata": {},
   "source": [
    "# Rating\n",
    "The user can give the rating from 0.5 to 5 values."
   ]
  },
  {
   "cell_type": "code",
   "execution_count": 16,
   "id": "11830c24",
   "metadata": {},
   "outputs": [
    {
     "data": {
      "text/html": [
       "<table class=\"dataframe\">\n",
       "<caption>A tibble: 10 × 2</caption>\n",
       "<thead>\n",
       "\t<tr><th scope=col>rating</th><th scope=col>n</th></tr>\n",
       "\t<tr><th scope=col>&lt;dbl&gt;</th><th scope=col>&lt;int&gt;</th></tr>\n",
       "</thead>\n",
       "<tbody>\n",
       "\t<tr><td>0.5</td><td>  85420</td></tr>\n",
       "\t<tr><td>1.0</td><td> 345935</td></tr>\n",
       "\t<tr><td>1.5</td><td> 106379</td></tr>\n",
       "\t<tr><td>2.0</td><td> 710998</td></tr>\n",
       "\t<tr><td>2.5</td><td> 332783</td></tr>\n",
       "\t<tr><td>3.0</td><td>2121638</td></tr>\n",
       "\t<tr><td>3.5</td><td> 792037</td></tr>\n",
       "\t<tr><td>4.0</td><td>2588021</td></tr>\n",
       "\t<tr><td>4.5</td><td> 526309</td></tr>\n",
       "\t<tr><td>5.0</td><td>1390541</td></tr>\n",
       "</tbody>\n",
       "</table>\n"
      ],
      "text/latex": [
       "A tibble: 10 × 2\n",
       "\\begin{tabular}{ll}\n",
       " rating & n\\\\\n",
       " <dbl> & <int>\\\\\n",
       "\\hline\n",
       "\t 0.5 &   85420\\\\\n",
       "\t 1.0 &  345935\\\\\n",
       "\t 1.5 &  106379\\\\\n",
       "\t 2.0 &  710998\\\\\n",
       "\t 2.5 &  332783\\\\\n",
       "\t 3.0 & 2121638\\\\\n",
       "\t 3.5 &  792037\\\\\n",
       "\t 4.0 & 2588021\\\\\n",
       "\t 4.5 &  526309\\\\\n",
       "\t 5.0 & 1390541\\\\\n",
       "\\end{tabular}\n"
      ],
      "text/markdown": [
       "\n",
       "A tibble: 10 × 2\n",
       "\n",
       "| rating &lt;dbl&gt; | n &lt;int&gt; |\n",
       "|---|---|\n",
       "| 0.5 |   85420 |\n",
       "| 1.0 |  345935 |\n",
       "| 1.5 |  106379 |\n",
       "| 2.0 |  710998 |\n",
       "| 2.5 |  332783 |\n",
       "| 3.0 | 2121638 |\n",
       "| 3.5 |  792037 |\n",
       "| 4.0 | 2588021 |\n",
       "| 4.5 |  526309 |\n",
       "| 5.0 | 1390541 |\n",
       "\n"
      ],
      "text/plain": [
       "   rating n      \n",
       "1  0.5      85420\n",
       "2  1.0     345935\n",
       "3  1.5     106379\n",
       "4  2.0     710998\n",
       "5  2.5     332783\n",
       "6  3.0    2121638\n",
       "7  3.5     792037\n",
       "8  4.0    2588021\n",
       "9  4.5     526309\n",
       "10 5.0    1390541"
      ]
     },
     "metadata": {},
     "output_type": "display_data"
    }
   ],
   "source": [
    "working_set %>% group_by(rating) %>% summarize(n=n())"
   ]
  },
  {
   "cell_type": "markdown",
   "id": "8260aec2",
   "metadata": {},
   "source": [
    "Two visualaztions using lineplot and bargraph"
   ]
  },
  {
   "cell_type": "code",
   "execution_count": 17,
   "id": "d9f96afc",
   "metadata": {},
   "outputs": [
    {
     "name": "stderr",
     "output_type": "stream",
     "text": [
      "Warning message:\n",
      "\"\u001b[1m\u001b[22mRemoved 2 rows containing missing values (`geom_bar()`).\"\n"
     ]
    },
    {
     "data": {
      "image/png": "[encoded data removed]",
      "text/plain": [
       "plot without title"
      ]
     },
     "metadata": {
      "image/png": {
       "height": 420,
       "width": 420
      }
     },
     "output_type": "display_data"
    }
   ],
   "source": [
    "working_set %>%\n",
    "  group_by(rating) %>%\n",
    "  summarize(count = n()) %>%\n",
    "  ggplot() +\n",
    "  geom_bar(aes(x = rating, y = count), stat = \"identity\", fill = \"red\") +\n",
    "  geom_line(aes(x = rating, y = count), color = \"black\") +\n",
    "  ggtitle(\"Rating Distribution\", subtitle = \"occurrence count vs rating\") +\n",
    "  xlab(\"Rating\") +\n",
    "  ylab(\"Occurrences Count\") +\n",
    "  scale_y_continuous(labels = comma) +\n",
    "  scale_x_continuous(limits = c(0.5, 5), n.breaks = 10, expand = c(0, 0)) +\n",
    "  theme_economist()\n"
   ]
  },
  {
   "cell_type": "markdown",
   "id": "f2b2eb8b",
   "metadata": {},
   "source": [
    "- ↑↑ From both visualization lineplot and bargraph, we knew that 4 rating scales has highest values and lowest is  0.5,however there is #no ratings. Conditioned on having at least one rating  1.5 is lowest.  "
   ]
  },
  {
   "cell_type": "markdown",
   "id": "0238e6e3",
   "metadata": {},
   "source": [
    "# date/timestamp\n",
    "The rating period was collected over almost 14 years"
   ]
  },
  {
   "cell_type": "code",
   "execution_count": 18,
   "id": "a25f1cb9",
   "metadata": {},
   "outputs": [
    {
     "data": {
      "text/plain": [
       " [1] \"2008-12-19 00:21:50 UTC\" \"2003-09-01 18:02:30 UTC\"\n",
       " [3] \"2008-11-07 19:55:17 UTC\" \"2007-01-07 00:35:08 UTC\"\n",
       " [5] \"2000-01-19 08:08:52 UTC\" \"1996-06-17 18:10:42 UTC\"\n",
       " [7] \"2003-02-10 07:55:02 UTC\" \"1999-10-20 18:01:56 UTC\"\n",
       " [9] \"2000-07-30 18:24:07 UTC\" \"2004-01-15 06:45:26 UTC\"\n",
       "[11] \"2003-06-01 09:25:43 UTC\" \"2006-01-08 13:14:18 UTC\"\n",
       "[13] \"2003-03-14 04:17:23 UTC\" \"1999-12-11 20:56:26 UTC\"\n",
       "[15] \"1996-07-03 20:18:39 UTC\" \"2004-07-14 09:08:34 UTC\"\n",
       "[17] \"1997-05-26 14:51:53 UTC\" \"2004-02-26 17:08:27 UTC\"\n",
       "[19] \"2004-07-23 06:37:49 UTC\" \"1999-05-04 16:08:37 UTC\""
      ]
     },
     "metadata": {},
     "output_type": "display_data"
    },
    {
     "data": {
      "text/html": [
       "<table class=\"dataframe\">\n",
       "<caption>A tibble: 15 × 2</caption>\n",
       "<thead>\n",
       "\t<tr><th scope=col>year</th><th scope=col>count</th></tr>\n",
       "\t<tr><th scope=col>&lt;dbl&gt;</th><th scope=col>&lt;int&gt;</th></tr>\n",
       "</thead>\n",
       "<tbody>\n",
       "\t<tr><td>1995</td><td>      2</td></tr>\n",
       "\t<tr><td>1996</td><td> 942976</td></tr>\n",
       "\t<tr><td>1997</td><td> 414218</td></tr>\n",
       "\t<tr><td>1998</td><td> 181845</td></tr>\n",
       "\t<tr><td>1999</td><td> 709978</td></tr>\n",
       "\t<tr><td>2000</td><td>1144666</td></tr>\n",
       "\t<tr><td>2001</td><td> 683412</td></tr>\n",
       "\t<tr><td>2002</td><td> 524826</td></tr>\n",
       "\t<tr><td>2003</td><td> 619707</td></tr>\n",
       "\t<tr><td>2004</td><td> 691191</td></tr>\n",
       "\t<tr><td>2005</td><td>1059807</td></tr>\n",
       "\t<tr><td>2006</td><td> 689447</td></tr>\n",
       "\t<tr><td>2007</td><td> 628845</td></tr>\n",
       "\t<tr><td>2008</td><td> 696027</td></tr>\n",
       "\t<tr><td>2009</td><td>  13114</td></tr>\n",
       "</tbody>\n",
       "</table>\n"
      ],
      "text/latex": [
       "A tibble: 15 × 2\n",
       "\\begin{tabular}{ll}\n",
       " year & count\\\\\n",
       " <dbl> & <int>\\\\\n",
       "\\hline\n",
       "\t 1995 &       2\\\\\n",
       "\t 1996 &  942976\\\\\n",
       "\t 1997 &  414218\\\\\n",
       "\t 1998 &  181845\\\\\n",
       "\t 1999 &  709978\\\\\n",
       "\t 2000 & 1144666\\\\\n",
       "\t 2001 &  683412\\\\\n",
       "\t 2002 &  524826\\\\\n",
       "\t 2003 &  619707\\\\\n",
       "\t 2004 &  691191\\\\\n",
       "\t 2005 & 1059807\\\\\n",
       "\t 2006 &  689447\\\\\n",
       "\t 2007 &  628845\\\\\n",
       "\t 2008 &  696027\\\\\n",
       "\t 2009 &   13114\\\\\n",
       "\\end{tabular}\n"
      ],
      "text/markdown": [
       "\n",
       "A tibble: 15 × 2\n",
       "\n",
       "| year &lt;dbl&gt; | count &lt;int&gt; |\n",
       "|---|---|\n",
       "| 1995 |       2 |\n",
       "| 1996 |  942976 |\n",
       "| 1997 |  414218 |\n",
       "| 1998 |  181845 |\n",
       "| 1999 |  709978 |\n",
       "| 2000 | 1144666 |\n",
       "| 2001 |  683412 |\n",
       "| 2002 |  524826 |\n",
       "| 2003 |  619707 |\n",
       "| 2004 |  691191 |\n",
       "| 2005 | 1059807 |\n",
       "| 2006 |  689447 |\n",
       "| 2007 |  628845 |\n",
       "| 2008 |  696027 |\n",
       "| 2009 |   13114 |\n",
       "\n"
      ],
      "text/plain": [
       "   year count  \n",
       "1  1995       2\n",
       "2  1996  942976\n",
       "3  1997  414218\n",
       "4  1998  181845\n",
       "5  1999  709978\n",
       "6  2000 1144666\n",
       "7  2001  683412\n",
       "8  2002  524826\n",
       "9  2003  619707\n",
       "10 2004  691191\n",
       "11 2005 1059807\n",
       "12 2006  689447\n",
       "13 2007  628845\n",
       "14 2008  696027\n",
       "15 2009   13114"
      ]
     },
     "metadata": {},
     "output_type": "display_data"
    }
   ],
   "source": [
    "sample(as_datetime(working_set$timestamp, origin = \"1970-01-01\"), replace = TRUE, size = 20)\n",
    "working_set %>% \n",
    "mutate(year = year(as_datetime(timestamp, origin = \"1970-01-01\"))) %>%\n",
    "group_by(year) %>%\n",
    "summarize(count = n())"
   ]
  },
  {
   "cell_type": "markdown",
   "id": "9ee4c1fe",
   "metadata": {},
   "source": [
    "# rating distribution per year"
   ]
  },
  {
   "cell_type": "code",
   "execution_count": 19,
   "id": "0b3bacef",
   "metadata": {},
   "outputs": [
    {
     "name": "stderr",
     "output_type": "stream",
     "text": [
      "\u001b[1m\u001b[22m`stat_bin()` using `bins = 30`. Pick better value with `binwidth`.\n"
     ]
    },
    {
     "data": {
      "image/png": "[encoded data removed]",
      "text/plain": [
       "plot without title"
      ]
     },
     "metadata": {
      "image/png": {
       "height": 420,
       "width": 420
      }
     },
     "output_type": "display_data"
    }
   ],
   "source": [
    "working_set %>% mutate(year = year(as_datetime(timestamp, origin=\"1970-01-01\"))) %>%\n",
    "  ggplot(aes(x=year)) +\n",
    "    geom_histogram(color = \"Red\") + \n",
    "    ggtitle(\"Rating Distribution Per Year\") +\n",
    "    xlab(\"Year\") +\n",
    "    ylab(\"Number of Ratings\") +\n",
    "    scale_y_continuous(labels = comma) + \n",
    "    theme_economist()"
   ]
  },
  {
   "cell_type": "markdown",
   "id": "120d6724",
   "metadata": {},
   "source": [
    "# average rating per year "
   ]
  },
  {
   "cell_type": "code",
   "execution_count": 20,
   "id": "5ad5bd37",
   "metadata": {},
   "outputs": [
    {
     "data": {
      "image/png": "[encoded data removed]",
      "text/plain": [
       "plot without title"
      ]
     },
     "metadata": {
      "image/png": {
       "height": 420,
       "width": 420
      }
     },
     "output_type": "display_data"
    }
   ],
   "source": [
    "#average rating per year\n",
    "working_set %>%\n",
    "  mutate(year = year(as_datetime(timestamp, origin=\"1970-01-01\"))) %>%\n",
    "  group_by(year) %>%\n",
    "  summarize(avg_rating = mean(rating)) %>%\n",
    "  ggplot(aes(x = year, y = avg_rating)) +\n",
    "    geom_col(fill = \"red\", color = \"white\") +\n",
    "    ggtitle(\"Average Rating Per Year\") +\n",
    "    xlab(\"Year\") +\n",
    "    ylab(\"Average Rating\") +\n",
    "    theme_economist()"
   ]
  },
  {
   "cell_type": "markdown",
   "id": "af0b0d5f",
   "metadata": {},
   "source": [
    "# Movies' rating histogram"
   ]
  },
  {
   "cell_type": "code",
   "execution_count": 21,
   "id": "be9d22fa",
   "metadata": {},
   "outputs": [
    {
     "name": "stderr",
     "output_type": "stream",
     "text": [
      "\u001b[1m\u001b[22m`stat_bin()` using `bins = 30`. Pick better value with `binwidth`.\n"
     ]
    },
    {
     "data": {
      "image/png": "[encoded data removed]",
      "text/plain": [
       "plot without title"
      ]
     },
     "metadata": {
      "image/png": {
       "height": 420,
       "width": 420
      }
     },
     "output_type": "display_data"
    }
   ],
   "source": [
    "working_set %>% group_by(movieId) %>%\n",
    "  summarise(n=n()) %>%\n",
    "  ggplot(aes(n)) +\n",
    "    geom_histogram(color = \"red\") +\n",
    "    scale_x_log10() + \n",
    "    ggtitle(\"Distribution of Movies\") +\n",
    "    xlab(\"Number of Ratings\") +\n",
    "    ylab(\"Number of Movies\") + \n",
    "    theme_economist()"
   ]
  },
  {
   "cell_type": "markdown",
   "id": "825de5e6",
   "metadata": {},
   "source": [
    "The above ↑↑ histogram seems to be almost symetric and seem to follow normal distribution. Many movies are watched by #few users and only popular movies have more ratings."
   ]
  },
  {
   "cell_type": "markdown",
   "id": "1a66f405",
   "metadata": {},
   "source": [
    "# User rating count "
   ]
  },
  {
   "cell_type": "code",
   "execution_count": 22,
   "id": "86b98738",
   "metadata": {},
   "outputs": [
    {
     "data": {
      "text/html": [
       "<table class=\"dataframe\">\n",
       "<caption>A tibble: 6 × 2</caption>\n",
       "<thead>\n",
       "\t<tr><th scope=col>userId</th><th scope=col>n</th></tr>\n",
       "\t<tr><th scope=col>&lt;int&gt;</th><th scope=col>&lt;int&gt;</th></tr>\n",
       "</thead>\n",
       "<tbody>\n",
       "\t<tr><td>22325</td><td>13</td></tr>\n",
       "\t<tr><td>60448</td><td>13</td></tr>\n",
       "\t<tr><td>64070</td><td>13</td></tr>\n",
       "\t<tr><td> 3943</td><td>14</td></tr>\n",
       "\t<tr><td>10560</td><td>14</td></tr>\n",
       "\t<tr><td>12081</td><td>14</td></tr>\n",
       "</tbody>\n",
       "</table>\n"
      ],
      "text/latex": [
       "A tibble: 6 × 2\n",
       "\\begin{tabular}{ll}\n",
       " userId & n\\\\\n",
       " <int> & <int>\\\\\n",
       "\\hline\n",
       "\t 22325 & 13\\\\\n",
       "\t 60448 & 13\\\\\n",
       "\t 64070 & 13\\\\\n",
       "\t  3943 & 14\\\\\n",
       "\t 10560 & 14\\\\\n",
       "\t 12081 & 14\\\\\n",
       "\\end{tabular}\n"
      ],
      "text/markdown": [
       "\n",
       "A tibble: 6 × 2\n",
       "\n",
       "| userId &lt;int&gt; | n &lt;int&gt; |\n",
       "|---|---|\n",
       "| 22325 | 13 |\n",
       "| 60448 | 13 |\n",
       "| 64070 | 13 |\n",
       "|  3943 | 14 |\n",
       "| 10560 | 14 |\n",
       "| 12081 | 14 |\n",
       "\n"
      ],
      "text/plain": [
       "  userId n \n",
       "1 22325  13\n",
       "2 60448  13\n",
       "3 64070  13\n",
       "4  3943  14\n",
       "5 10560  14\n",
       "6 12081  14"
      ]
     },
     "metadata": {},
     "output_type": "display_data"
    },
    {
     "data": {
      "text/plain": [
       "     count       \n",
       " Min.   :  13.0  \n",
       " 1st Qu.:  32.0  \n",
       " Median :  62.0  \n",
       " Mean   : 128.8  \n",
       " 3rd Qu.: 140.0  \n",
       " Max.   :6637.0  "
      ]
     },
     "metadata": {},
     "output_type": "display_data"
    }
   ],
   "source": [
    "working_set %>% group_by(userId) %>%\n",
    "  summarise(n=n()) %>%\n",
    "  arrange(n) %>%\n",
    "  head()\n",
    "summary(working_set %>% group_by(userId) %>% summarize(count = n()) %>% select(count))"
   ]
  },
  {
   "cell_type": "markdown",
   "id": "eb2f61cf",
   "metadata": {},
   "source": [
    "# Users rating histogram"
   ]
  },
  {
   "cell_type": "code",
   "execution_count": 23,
   "id": "b7b3a1c2",
   "metadata": {},
   "outputs": [
    {
     "name": "stderr",
     "output_type": "stream",
     "text": [
      "\u001b[1m\u001b[22m`stat_bin()` using `bins = 30`. Pick better value with `binwidth`.\n"
     ]
    },
    {
     "data": {
      "image/png": "[encoded data removed]",
      "text/plain": [
       "plot without title"
      ]
     },
     "metadata": {
      "image/png": {
       "height": 420,
       "width": 420
      }
     },
     "output_type": "display_data"
    }
   ],
   "source": [
    "working_set %>% group_by(userId) %>%\n",
    "  summarise(n=n()) %>%\n",
    "  ggplot(aes(n)) +\n",
    "    geom_histogram(color = \"white\") +\n",
    "    scale_x_log10() + \n",
    "    ggtitle(\"Users distribution histogrma\") +\n",
    "    xlab(\"Number of Ratings\") +\n",
    "    ylab(\"Number of Users\") + \n",
    "    scale_y_continuous(labels = comma) + \n",
    "    theme_economist()"
   ]
  },
  {
   "cell_type": "markdown",
   "id": "9e76df52",
   "metadata": {},
   "source": [
    "# matrix construction"
   ]
  },
  {
   "cell_type": "code",
   "execution_count": 24,
   "id": "861c3c09",
   "metadata": {},
   "outputs": [
    {
     "data": {
      "image/png": "[encoded data removed]",
      "text/plain": [
       "Plot with title \"User x Movie Matrix\""
      ]
     },
     "metadata": {
      "image/png": {
       "height": 420,
       "width": 420
      }
     },
     "output_type": "display_data"
    }
   ],
   "source": [
    "users <- sample(unique(working_set$userId), 100)\n",
    "working_set %>% filter(userId %in% users) %>%\n",
    "  select(userId, movieId, rating) %>%\n",
    "  mutate(rating = 1) %>%\n",
    "  spread(movieId, rating) %>% \n",
    "  select(sample(ncol(.), 100)) %>% \n",
    "  as.matrix() %>% t(.) %>%\n",
    "  image(1:100, 1:100,. , xlab=\"Movies\", ylab=\"Users\")\n",
    "abline(h=0:100+0.5, v=0:100+0.5, col = \"grey\")\n",
    "title(\"User x Movie Matrix\")"
   ]
  },
  {
   "cell_type": "markdown",
   "id": "07506141",
   "metadata": {},
   "source": [
    "The above ↑↑  matrix is thinly distributed, its so sparsed. In the context of this visualization, a sparse dataset is one where most of the entries are empty or zero. We can see very few users are active."
   ]
  },
  {
   "cell_type": "markdown",
   "id": "86b97a94",
   "metadata": {},
   "source": [
    "# 3 Generes"
   ]
  },
  {
   "cell_type": "markdown",
   "id": "4d58815d",
   "metadata": {},
   "source": [
    "\n",
    "The table below shows that several movies are classified in more than one genre.\n"
   ]
  },
  {
   "cell_type": "code",
   "execution_count": 25,
   "id": "657b183c",
   "metadata": {},
   "outputs": [
    {
     "data": {
      "text/html": [
       "<table class=\"dataframe\">\n",
       "<caption>A tibble: 6 × 2</caption>\n",
       "<thead>\n",
       "\t<tr><th scope=col>genres</th><th scope=col>n</th></tr>\n",
       "\t<tr><th scope=col>&lt;chr&gt;</th><th scope=col>&lt;int&gt;</th></tr>\n",
       "</thead>\n",
       "<tbody>\n",
       "\t<tr><td>(no genres listed)                                </td><td>    6</td></tr>\n",
       "\t<tr><td>Action                                            </td><td>24575</td></tr>\n",
       "\t<tr><td>Action|Adventure                                  </td><td>68611</td></tr>\n",
       "\t<tr><td>Action|Adventure|Animation|Children|Comedy        </td><td> 7438</td></tr>\n",
       "\t<tr><td>Action|Adventure|Animation|Children|Comedy|Fantasy</td><td>  191</td></tr>\n",
       "\t<tr><td>Action|Adventure|Animation|Children|Comedy|IMAX   </td><td>   62</td></tr>\n",
       "</tbody>\n",
       "</table>\n"
      ],
      "text/latex": [
       "A tibble: 6 × 2\n",
       "\\begin{tabular}{ll}\n",
       " genres & n\\\\\n",
       " <chr> & <int>\\\\\n",
       "\\hline\n",
       "\t (no genres listed)                                 &     6\\\\\n",
       "\t Action                                             & 24575\\\\\n",
       "\t Action\\textbar{}Adventure                                   & 68611\\\\\n",
       "\t Action\\textbar{}Adventure\\textbar{}Animation\\textbar{}Children\\textbar{}Comedy         &  7438\\\\\n",
       "\t Action\\textbar{}Adventure\\textbar{}Animation\\textbar{}Children\\textbar{}Comedy\\textbar{}Fantasy &   191\\\\\n",
       "\t Action\\textbar{}Adventure\\textbar{}Animation\\textbar{}Children\\textbar{}Comedy\\textbar{}IMAX    &    62\\\\\n",
       "\\end{tabular}\n"
      ],
      "text/markdown": [
       "\n",
       "A tibble: 6 × 2\n",
       "\n",
       "| genres &lt;chr&gt; | n &lt;int&gt; |\n",
       "|---|---|\n",
       "| (no genres listed)                                 |     6 |\n",
       "| Action                                             | 24575 |\n",
       "| Action|Adventure                                   | 68611 |\n",
       "| Action|Adventure|Animation|Children|Comedy         |  7438 |\n",
       "| Action|Adventure|Animation|Children|Comedy|Fantasy |   191 |\n",
       "| Action|Adventure|Animation|Children|Comedy|IMAX    |    62 |\n",
       "\n"
      ],
      "text/plain": [
       "  genres                                             n    \n",
       "1 (no genres listed)                                     6\n",
       "2 Action                                             24575\n",
       "3 Action|Adventure                                   68611\n",
       "4 Action|Adventure|Animation|Children|Comedy          7438\n",
       "5 Action|Adventure|Animation|Children|Comedy|Fantasy   191\n",
       "6 Action|Adventure|Animation|Children|Comedy|IMAX       62"
      ]
     },
     "metadata": {},
     "output_type": "display_data"
    }
   ],
   "source": [
    "working_set %>% group_by(genres) %>% \n",
    "  summarise(n=n()) %>%\n",
    "  head()"
   ]
  },
  {
   "cell_type": "markdown",
   "id": "7d7f4190",
   "metadata": {},
   "source": [
    "we will create a dataframe containing the count of movies in each genre"
   ]
  },
  {
   "cell_type": "code",
   "execution_count": 26,
   "id": "43139be7",
   "metadata": {},
   "outputs": [
    {
     "name": "stdout",
     "output_type": "stream",
     "text": [
      "                 Genres   Count\n",
      "Action           Action 2560649\n",
      "Adventure     Adventure 1908692\n",
      "Animation     Animation  467220\n",
      "Children       Children  737851\n",
      "Comedy           Comedy 3541284\n",
      "Crime             Crime 1326917\n",
      "Documentary Documentary   93252\n",
      "Drama             Drama 3909401\n",
      "Fantasy         Fantasy  925624\n",
      "Film-Noir     Film-Noir  118394\n",
      "Horror           Horror  691407\n",
      "Musical         Musical  432960\n",
      "Mystery         Mystery  567865\n",
      "Romance         Romance 1712232\n",
      "Sci-Fi           Sci-Fi 1341750\n",
      "Thriller       Thriller 2325349\n",
      "War                 War  511330\n",
      "Western         Western  189234\n"
     ]
    }
   ],
   "source": [
    "genres <- c(\"Action\", \"Adventure\", \"Animation\", \n",
    "            \"Children\", \"Comedy\", \"Crime\", \n",
    "            \"Documentary\", \"Drama\", \"Fantasy\", \n",
    "            \"Film-Noir\", \"Horror\", \"Musical\", \n",
    "            \"Mystery\", \"Romance\", \"Sci-Fi\", \n",
    "            \"Thriller\", \"War\", \"Western\")\n",
    "\n",
    "genres_df <- data.frame(\n",
    "  Genres = genres,\n",
    "  Count = sapply(genres, function(x) {\n",
    "    sum(str_detect(working_set$genres, x))\n",
    "  })\n",
    ")\n",
    "\n",
    "print(genres_df)"
   ]
  },
  {
   "cell_type": "markdown",
   "id": "23039355",
   "metadata": {},
   "source": [
    "# Few visualization of generes"
   ]
  },
  {
   "cell_type": "code",
   "execution_count": 27,
   "id": "e4308e5d",
   "metadata": {},
   "outputs": [
    {
     "data": {
      "image/png": "[encoded data removed]",
      "text/plain": [
       "plot without title"
      ]
     },
     "metadata": {
      "image/png": {
       "height": 420,
       "width": 420
      }
     },
     "output_type": "display_data"
    }
   ],
   "source": [
    "genres_df %>%\n",
    "  ggplot(aes(x = Count, y = Genres)) +\n",
    "  ggtitle(\"Genre Popularity\") +\n",
    "  geom_bar(stat = \"identity\", width = 0.6, fill = \"red\") +\n",
    "  xlab(\"Number of ratings\") +\n",
    "  ylab(\"Genres\") +\n",
    "  scale_x_continuous(labels = comma) +\n",
    "  theme_economist()"
   ]
  },
  {
   "cell_type": "code",
   "execution_count": 28,
   "id": "74974366",
   "metadata": {},
   "outputs": [
    {
     "name": "stdout",
     "output_type": "stream",
     "text": [
      "                 Genres   Rating\n",
      "Action           Action 3.421589\n",
      "Adventure     Adventure 3.494076\n",
      "Animation     Animation 3.599588\n",
      "Children       Children 3.418673\n",
      "Comedy           Comedy 3.437040\n",
      "Crime             Crime 3.666151\n",
      "Documentary Documentary 3.784385\n",
      "Drama             Drama 3.673047\n",
      "Fantasy         Fantasy 3.502419\n",
      "Film-Noir     Film-Noir 4.011732\n",
      "Horror           Horror 3.269523\n",
      "Musical         Musical 3.562761\n",
      "Mystery         Mystery 3.677412\n",
      "Romance         Romance 3.553594\n",
      "Sci-Fi           Sci-Fi 3.396756\n",
      "Thriller       Thriller 3.506879\n",
      "War                 War 3.779457\n",
      "Western         Western 3.555122\n"
     ]
    }
   ],
   "source": [
    "#We are making  a new data frame called genres_df_2 that contains two columns: Genres and Rating\n",
    "genres_df_2 <- data.frame(\n",
    "  Genres = genres,\n",
    "  Rating = sapply(genres, function(x) {\n",
    "    mean(working_set[str_detect(working_set$genres, x)]$rating)\n",
    "  })\n",
    ")\n",
    "print(genres_df_2)"
   ]
  },
  {
   "cell_type": "code",
   "execution_count": 29,
   "id": "6fff6392",
   "metadata": {},
   "outputs": [
    {
     "data": {
      "image/png": "[encoded data removed]",
      "text/plain": [
       "plot without title"
      ]
     },
     "metadata": {
      "image/png": {
       "height": 420,
       "width": 420
      }
     },
     "output_type": "display_data"
    }
   ],
   "source": [
    "genres_df_2 %>%\n",
    "  ggplot(aes(x = Rating, y = Genres)) +\n",
    "  ggtitle(\"Genre Average Rating\") +\n",
    "  geom_bar(stat = \"identity\", width = 0.6, fill = \"red\") +\n",
    "  xlab(\"Average ratings\") +\n",
    "  ylab(\"Genres\") +\n",
    "  scale_x_continuous(labels = comma, limits = c(0.0, 5.0)) +\n",
    "  theme_economist() "
   ]
  },
  {
   "cell_type": "code",
   "execution_count": 30,
   "id": "346a85d8",
   "metadata": {},
   "outputs": [
    {
     "name": "stdout",
     "output_type": "stream",
     "text": [
      "Number of rows: 9000061 \n",
      "Number of columns: 6 \n"
     ]
    }
   ],
   "source": [
    "cat(\"Number of rows:\", dim(working_set)[1], \"\\n\")\n",
    "cat(\"Number of columns:\", dim(working_set)[2], \"\\n\")"
   ]
  },
  {
   "cell_type": "markdown",
   "id": "6017cb91",
   "metadata": {},
   "source": [
    "- How many zeros were given as ratings in the training dataset?\n"
   ]
  },
  {
   "cell_type": "code",
   "execution_count": 31,
   "id": "7724dbaf",
   "metadata": {},
   "outputs": [
    {
     "data": {
      "text/html": [
       "0"
      ],
      "text/latex": [
       "0"
      ],
      "text/markdown": [
       "0"
      ],
      "text/plain": [
       "[1] 0"
      ]
     },
     "metadata": {},
     "output_type": "display_data"
    }
   ],
   "source": [
    "working_set %>%\n",
    "  filter(rating == 0.0) %>%\n",
    "  nrow()"
   ]
  },
  {
   "cell_type": "markdown",
   "id": "010e18ec",
   "metadata": {},
   "source": [
    "- how many five star are given?"
   ]
  },
  {
   "cell_type": "code",
   "execution_count": 32,
   "id": "0c2284fa",
   "metadata": {},
   "outputs": [
    {
     "data": {
      "text/html": [
       "1390541"
      ],
      "text/latex": [
       "1390541"
      ],
      "text/markdown": [
       "1390541"
      ],
      "text/plain": [
       "[1] 1390541"
      ]
     },
     "metadata": {},
     "output_type": "display_data"
    }
   ],
   "source": [
    "sum(working_set$rating == 5.0)"
   ]
  },
  {
   "cell_type": "markdown",
   "id": "c04670fe",
   "metadata": {},
   "source": [
    "How many different movies are in the training dataset?¶"
   ]
  },
  {
   "cell_type": "code",
   "execution_count": 33,
   "id": "b23bc1a5",
   "metadata": {},
   "outputs": [
    {
     "data": {
      "text/html": [
       "10677"
      ],
      "text/latex": [
       "10677"
      ],
      "text/markdown": [
       "10677"
      ],
      "text/plain": [
       "[1] 10677"
      ]
     },
     "metadata": {},
     "output_type": "display_data"
    }
   ],
   "source": [
    "working_set %>%\n",
    "  distinct(movieId) %>%\n",
    "  nrow()"
   ]
  },
  {
   "cell_type": "markdown",
   "id": "8d327f5f",
   "metadata": {},
   "source": [
    "how many users and movies are in trainig dataset?"
   ]
  },
  {
   "cell_type": "code",
   "execution_count": 34,
   "id": "2dc07d8e",
   "metadata": {},
   "outputs": [
    {
     "data": {
      "text/html": [
       "<table class=\"dataframe\">\n",
       "<caption>A data.frame: 1 × 2</caption>\n",
       "<thead>\n",
       "\t<tr><th scope=col>n_movies</th><th scope=col>n_users</th></tr>\n",
       "\t<tr><th scope=col>&lt;int&gt;</th><th scope=col>&lt;int&gt;</th></tr>\n",
       "</thead>\n",
       "<tbody>\n",
       "\t<tr><td>10677</td><td>69878</td></tr>\n",
       "</tbody>\n",
       "</table>\n"
      ],
      "text/latex": [
       "A data.frame: 1 × 2\n",
       "\\begin{tabular}{ll}\n",
       " n\\_movies & n\\_users\\\\\n",
       " <int> & <int>\\\\\n",
       "\\hline\n",
       "\t 10677 & 69878\\\\\n",
       "\\end{tabular}\n"
      ],
      "text/markdown": [
       "\n",
       "A data.frame: 1 × 2\n",
       "\n",
       "| n_movies &lt;int&gt; | n_users &lt;int&gt; |\n",
       "|---|---|\n",
       "| 10677 | 69878 |\n",
       "\n"
      ],
      "text/plain": [
       "  n_movies n_users\n",
       "1 10677    69878  "
      ]
     },
     "metadata": {},
     "output_type": "display_data"
    }
   ],
   "source": [
    "working_set %>%\n",
    "  summarise(n_movies = n_distinct(movieId),\n",
    "            n_users = n_distinct(userId))"
   ]
  },
  {
   "cell_type": "markdown",
   "id": "aeaff28e",
   "metadata": {},
   "source": [
    "- How many movie ratings belong to the drama, comedy, thriller and romance genres (respectively) in the working_set dataset?"
   ]
  },
  {
   "cell_type": "code",
   "execution_count": 35,
   "id": "d8e64a8a",
   "metadata": {},
   "outputs": [
    {
     "data": {
      "text/html": [
       "<style>\n",
       ".dl-inline {width: auto; margin:0; padding: 0}\n",
       ".dl-inline>dt, .dl-inline>dd {float: none; width: auto; display: inline-block}\n",
       ".dl-inline>dt::after {content: \":\\0020\"; padding-right: .5ex}\n",
       ".dl-inline>dt:not(:first-of-type) {padding-left: .5ex}\n",
       "</style><dl class=dl-inline><dt>Romance</dt><dd>1712232</dd><dt>Crime</dt><dd>1326917</dd><dt>Thriller</dt><dd>2325349</dd><dt>Action</dt><dd>2560649</dd></dl>\n"
      ],
      "text/latex": [
       "\\begin{description*}\n",
       "\\item[Romance] 1712232\n",
       "\\item[Crime] 1326917\n",
       "\\item[Thriller] 2325349\n",
       "\\item[Action] 2560649\n",
       "\\end{description*}\n"
      ],
      "text/markdown": [
       "Romance\n",
       ":   1712232Crime\n",
       ":   1326917Thriller\n",
       ":   2325349Action\n",
       ":   2560649\n",
       "\n"
      ],
      "text/plain": [
       " Romance    Crime Thriller   Action \n",
       " 1712232  1326917  2325349  2560649 "
      ]
     },
     "metadata": {},
     "output_type": "display_data"
    }
   ],
   "source": [
    "genres_quiz <- c(\"Romance\", \"Crime\", \"Thriller\", \"Action\")\n",
    "sapply(genres_quiz, function(x) {\n",
    "  sum(str_detect(working_set$genres, x))\n",
    "})"
   ]
  },
  {
   "cell_type": "markdown",
   "id": "a5514e6d",
   "metadata": {},
   "source": [
    "# we are going to perform random prediction, linear model, and matrix factorization."
   ]
  },
  {
   "cell_type": "markdown",
   "id": "71ed3fb5",
   "metadata": {},
   "source": [
    "- Train-test split using createDataPartition\n"
   ]
  },
  {
   "cell_type": "code",
   "execution_count": 36,
   "id": "e5f7e19f",
   "metadata": {},
   "outputs": [
    {
     "data": {
      "text/html": [
       "<table class=\"dataframe\">\n",
       "<caption>A tibble: 3 × 2</caption>\n",
       "<thead>\n",
       "\t<tr><th scope=col>Dataset</th><th scope=col>Number of ratings</th></tr>\n",
       "\t<tr><th scope=col>&lt;chr&gt;</th><th scope=col>&lt;int&gt;</th></tr>\n",
       "</thead>\n",
       "<tbody>\n",
       "\t<tr><td>mod_movies   </td><td>10000054</td></tr>\n",
       "\t<tr><td>train_set    </td><td> 9000050</td></tr>\n",
       "\t<tr><td>temp_test_set</td><td> 1000004</td></tr>\n",
       "</tbody>\n",
       "</table>\n"
      ],
      "text/latex": [
       "A tibble: 3 × 2\n",
       "\\begin{tabular}{ll}\n",
       " Dataset & Number of ratings\\\\\n",
       " <chr> & <int>\\\\\n",
       "\\hline\n",
       "\t mod\\_movies    & 10000054\\\\\n",
       "\t train\\_set     &  9000050\\\\\n",
       "\t temp\\_test\\_set &  1000004\\\\\n",
       "\\end{tabular}\n"
      ],
      "text/markdown": [
       "\n",
       "A tibble: 3 × 2\n",
       "\n",
       "| Dataset &lt;chr&gt; | Number of ratings &lt;int&gt; |\n",
       "|---|---|\n",
       "| mod_movies    | 10000054 |\n",
       "| train_set     |  9000050 |\n",
       "| temp_test_set |  1000004 |\n",
       "\n"
      ],
      "text/plain": [
       "  Dataset       Number of ratings\n",
       "1 mod_movies    10000054         \n",
       "2 train_set      9000050         \n",
       "3 temp_test_set  1000004         "
      ]
     },
     "metadata": {},
     "output_type": "display_data"
    }
   ],
   "source": [
    "set.seed(1)\n",
    "train_index <- createDataPartition(mod_movies$rating, times = 1, p = 0.9, list = FALSE)\n",
    "train_set <- mod_movies[train_index,]\n",
    "temp_test_set <- mod_movies[-train_index,]\n",
    "\n",
    "tibble(Dataset = c(\"mod_movies\", \"train_set\", \"temp_test_set\"),\n",
    "       \"Number of ratings\" = c(nrow(mod_movies), nrow(train_set), nrow(temp_test_set)))"
   ]
  },
  {
   "cell_type": "code",
   "execution_count": 37,
   "id": "13cdb533",
   "metadata": {},
   "outputs": [
    {
     "data": {
      "text/html": [
       "<table class=\"dataframe\">\n",
       "<caption>A tibble: 3 × 2</caption>\n",
       "<thead>\n",
       "\t<tr><th scope=col>Dataset</th><th scope=col>Number of ratings</th></tr>\n",
       "\t<tr><th scope=col>&lt;chr&gt;</th><th scope=col>&lt;int&gt;</th></tr>\n",
       "</thead>\n",
       "<tbody>\n",
       "\t<tr><td>mod_movies   </td><td>10000054</td></tr>\n",
       "\t<tr><td>train_set    </td><td> 9000047</td></tr>\n",
       "\t<tr><td>temp_test_set</td><td> 1000007</td></tr>\n",
       "</tbody>\n",
       "</table>\n"
      ],
      "text/latex": [
       "A tibble: 3 × 2\n",
       "\\begin{tabular}{ll}\n",
       " Dataset & Number of ratings\\\\\n",
       " <chr> & <int>\\\\\n",
       "\\hline\n",
       "\t mod\\_movies    & 10000054\\\\\n",
       "\t train\\_set     &  9000047\\\\\n",
       "\t temp\\_test\\_set &  1000007\\\\\n",
       "\\end{tabular}\n"
      ],
      "text/markdown": [
       "\n",
       "A tibble: 3 × 2\n",
       "\n",
       "| Dataset &lt;chr&gt; | Number of ratings &lt;int&gt; |\n",
       "|---|---|\n",
       "| mod_movies    | 10000054 |\n",
       "| train_set     |  9000047 |\n",
       "| temp_test_set |  1000007 |\n",
       "\n"
      ],
      "text/plain": [
       "  Dataset       Number of ratings\n",
       "1 mod_movies    10000054         \n",
       "2 train_set      9000047         \n",
       "3 temp_test_set  1000007         "
      ]
     },
     "metadata": {},
     "output_type": "display_data"
    }
   ],
   "source": [
    "set.seed(1)\n",
    "test_index <- createDataPartition(y = mod_movies$rating, times = 1, p = 0.1, list = FALSE)\n",
    "train_set <- mod_movies[-test_index,]\n",
    "temp_test_set <- mod_movies[test_index,]\n",
    "\n",
    "tibble(Dataset = c(\"mod_movies\", \"train_set\", \"temp_test_set\"),\n",
    "       \"Number of ratings\" = c(nrow(mod_movies), nrow(train_set), nrow(temp_test_set)))"
   ]
  },
  {
   "cell_type": "markdown",
   "id": "9110dafb",
   "metadata": {},
   "source": [
    "we will be doing a random predection whoch selects 1000 ratings from the training set and calculates the accuracy of the model's predictions for each possible rating value (from 0.5 to 5 in increments of 0.5) .This prediction might not be right so we will use more other models."
   ]
  },
  {
   "cell_type": "code",
   "execution_count": 38,
   "id": "0a01a3b4",
   "metadata": {},
   "outputs": [],
   "source": [
    "set.seed(1)\n",
    "guess_right <- function(x, y) mean(y == x)\n",
    "simulation <- replicate(10000, {\n",
    "  i <- sample(train_set$rating, 1000, replace = TRUE)\n",
    "  sapply(seq(0.5, 5, 0.5), guess_right, i)\n",
    "})\n",
    "guess_prob <- rowMeans(simulation)\n",
    "y_hat_random <- sample(seq(0.5, 5, 0.5), nrow(validation), replace = TRUE, prob = guess_prob)"
   ]
  },
  {
   "cell_type": "code",
   "execution_count": 39,
   "id": "0cc5c92c",
   "metadata": {},
   "outputs": [],
   "source": [
    "test_set <- temp_test_set %>% \n",
    "      semi_join(train_set, by = \"movieId\") %>%\n",
    "      semi_join(train_set, by = \"userId\")"
   ]
  },
  {
   "cell_type": "code",
   "execution_count": 40,
   "id": "e07b7461",
   "metadata": {},
   "outputs": [
    {
     "name": "stderr",
     "output_type": "stream",
     "text": [
      "\u001b[1m\u001b[22mJoining with `by = join_by(userId, movieId, rating, timestamp, title, genres)`\n"
     ]
    }
   ],
   "source": [
    "removed <- anti_join(temp_test_set, test_set)\n",
    "train_set <- rbind(train_set, removed)"
   ]
  },
  {
   "cell_type": "markdown",
   "id": "58b92d0d",
   "metadata": {},
   "source": [
    "**Evalation table is created using using four columns Model, MAE,MSE,RMSE. And model table contain three models called cinemathch, netflix prizr and random guessing.\n",
    "**The mean absolute error(MAE), mean squared error (MSE), and root mean squared error (RMSE) are evaluation metrics provide a quantitative measure of the accuracy of the recommendations made by the algorithm\n",
    "**Having higher MSE, MAE, and RMSE values indicates poorer performance, so lesser these values more good is the model perfromance"
   ]
  },
  {
   "cell_type": "code",
   "execution_count": 41,
   "id": "2cc30219",
   "metadata": {},
   "outputs": [
    {
     "name": "stdout",
     "output_type": "stream",
     "text": [
      "\u001b[90m# A tibble: 3 × 4\u001b[39m\n",
      "  Model               MAE   MSE  RMSE\n",
      "  \u001b[3m\u001b[90m<chr>\u001b[39m\u001b[23m             \u001b[3m\u001b[90m<dbl>\u001b[39m\u001b[23m \u001b[3m\u001b[90m<dbl>\u001b[39m\u001b[23m \u001b[3m\u001b[90m<dbl>\u001b[39m\u001b[23m\n",
      "\u001b[90m1\u001b[39m Cinematch         \u001b[31mNA\u001b[39m    \u001b[31mNA\u001b[39m    0.952\n",
      "\u001b[90m2\u001b[39m The Netflix Prize \u001b[31mNA\u001b[39m    \u001b[31mNA\u001b[39m    0.857\n",
      "\u001b[90m3\u001b[39m Random guessing    1.17  2.25 1.50 \n"
     ]
    }
   ],
   "source": [
    "evaluation <- tibble(\n",
    "  Model = c(\"Cinematch\", \"The Netflix Prize\", \"Random guessing\"),\n",
    "  MAE = c(NA, NA, Metrics::mae(validation$rating, y_hat_random)),\n",
    "  MSE = c(NA, NA, Metrics::mse(validation$rating, y_hat_random)),\n",
    "  RMSE = c(0.9525, 0.85725, Metrics::rmse(validation$rating, y_hat_random))\n",
    ")\n",
    "\n",
    "print(evaluation)"
   ]
  },
  {
   "cell_type": "markdown",
   "id": "8eaaf015",
   "metadata": {},
   "source": [
    "\n",
    "The initial prediction is just the mean of the ratings, μ\n",
    "."
   ]
  },
  {
   "cell_type": "markdown",
   "id": "99fc9b99",
   "metadata": {},
   "source": [
    "# Linear Regression Model using mean baseline "
   ]
  },
  {
   "cell_type": "markdown",
   "id": "3e251119",
   "metadata": {},
   "source": [
    "We will calculate the mean of rating for train_set, also we are adding new columns called mean baseline it helps to compare the performance between more complex model and simple models"
   ]
  },
  {
   "cell_type": "code",
   "execution_count": 42,
   "id": "eceafbf8",
   "metadata": {},
   "outputs": [
    {
     "name": "stdout",
     "output_type": "stream",
     "text": [
      "\u001b[90m# A tibble: 4 × 4\u001b[39m\n",
      "  Model                           MAE   MSE  RMSE\n",
      "  \u001b[3m\u001b[90m<chr>\u001b[39m\u001b[23m                         \u001b[3m\u001b[90m<dbl>\u001b[39m\u001b[23m \u001b[3m\u001b[90m<dbl>\u001b[39m\u001b[23m \u001b[3m\u001b[90m<dbl>\u001b[39m\u001b[23m\n",
      "\u001b[90m1\u001b[39m Cinematch                    \u001b[31mNA\u001b[39m     \u001b[31mNA\u001b[39m    0.952\n",
      "\u001b[90m2\u001b[39m The Netflix Prize            \u001b[31mNA\u001b[39m     \u001b[31mNA\u001b[39m    0.857\n",
      "\u001b[90m3\u001b[39m Random guessing               1.17   2.25 1.50 \n",
      "\u001b[90m4\u001b[39m Linear model (mean baseline)  0.856  1.12 1.06 \n"
     ]
    }
   ],
   "source": [
    "mu <- mean(train_set$rating)\n",
    "y_hat_mean <- rep(mu, nrow(validation))\n",
    "\n",
    "evaluation <- bind_rows(evaluation, tibble(Model = \"Linear model (mean baseline)\",\n",
    "                                           MAE = Metrics::mae(validation$rating, y_hat_mean),\n",
    "                                           MSE = Metrics::mse(validation$rating, y_hat_mean),\n",
    "                                           RMSE = Metrics::rmse(validation$rating, y_hat_mean)))\n",
    "print(evaluation)"
   ]
  },
  {
   "cell_type": "markdown",
   "id": "0ee6be82",
   "metadata": {},
   "source": [
    "Bias per movie"
   ]
  },
  {
   "cell_type": "code",
   "execution_count": 43,
   "id": "0d05d2ba",
   "metadata": {},
   "outputs": [
    {
     "data": {
      "text/html": [
       "<table class=\"dataframe\">\n",
       "<caption>A tibble: 10 × 3</caption>\n",
       "<thead>\n",
       "\t<tr><th scope=col>movieId</th><th scope=col>b_i</th><th scope=col>b_i_isolated</th></tr>\n",
       "\t<tr><th scope=col>&lt;int&gt;</th><th scope=col>&lt;dbl&gt;</th><th scope=col>&lt;dbl&gt;</th></tr>\n",
       "</thead>\n",
       "<tbody>\n",
       "\t<tr><td> 1</td><td> 0.41377207</td><td>3.926236</td></tr>\n",
       "\t<tr><td> 2</td><td>-0.30974866</td><td>3.202715</td></tr>\n",
       "\t<tr><td> 3</td><td>-0.36245688</td><td>3.150007</td></tr>\n",
       "\t<tr><td> 4</td><td>-0.63215998</td><td>2.880304</td></tr>\n",
       "\t<tr><td> 5</td><td>-0.43374223</td><td>3.078722</td></tr>\n",
       "\t<tr><td> 6</td><td> 0.29904188</td><td>3.811506</td></tr>\n",
       "\t<tr><td> 7</td><td>-0.14727767</td><td>3.365186</td></tr>\n",
       "\t<tr><td> 8</td><td>-0.39532464</td><td>3.117139</td></tr>\n",
       "\t<tr><td> 9</td><td>-0.51684994</td><td>2.995614</td></tr>\n",
       "\t<tr><td>10</td><td>-0.08784102</td><td>3.424623</td></tr>\n",
       "</tbody>\n",
       "</table>\n"
      ],
      "text/latex": [
       "A tibble: 10 × 3\n",
       "\\begin{tabular}{lll}\n",
       " movieId & b\\_i & b\\_i\\_isolated\\\\\n",
       " <int> & <dbl> & <dbl>\\\\\n",
       "\\hline\n",
       "\t  1 &  0.41377207 & 3.926236\\\\\n",
       "\t  2 & -0.30974866 & 3.202715\\\\\n",
       "\t  3 & -0.36245688 & 3.150007\\\\\n",
       "\t  4 & -0.63215998 & 2.880304\\\\\n",
       "\t  5 & -0.43374223 & 3.078722\\\\\n",
       "\t  6 &  0.29904188 & 3.811506\\\\\n",
       "\t  7 & -0.14727767 & 3.365186\\\\\n",
       "\t  8 & -0.39532464 & 3.117139\\\\\n",
       "\t  9 & -0.51684994 & 2.995614\\\\\n",
       "\t 10 & -0.08784102 & 3.424623\\\\\n",
       "\\end{tabular}\n"
      ],
      "text/markdown": [
       "\n",
       "A tibble: 10 × 3\n",
       "\n",
       "| movieId &lt;int&gt; | b_i &lt;dbl&gt; | b_i_isolated &lt;dbl&gt; |\n",
       "|---|---|---|\n",
       "|  1 |  0.41377207 | 3.926236 |\n",
       "|  2 | -0.30974866 | 3.202715 |\n",
       "|  3 | -0.36245688 | 3.150007 |\n",
       "|  4 | -0.63215998 | 2.880304 |\n",
       "|  5 | -0.43374223 | 3.078722 |\n",
       "|  6 |  0.29904188 | 3.811506 |\n",
       "|  7 | -0.14727767 | 3.365186 |\n",
       "|  8 | -0.39532464 | 3.117139 |\n",
       "|  9 | -0.51684994 | 2.995614 |\n",
       "| 10 | -0.08784102 | 3.424623 |\n",
       "\n"
      ],
      "text/plain": [
       "   movieId b_i         b_i_isolated\n",
       "1   1       0.41377207 3.926236    \n",
       "2   2      -0.30974866 3.202715    \n",
       "3   3      -0.36245688 3.150007    \n",
       "4   4      -0.63215998 2.880304    \n",
       "5   5      -0.43374223 3.078722    \n",
       "6   6       0.29904188 3.811506    \n",
       "7   7      -0.14727767 3.365186    \n",
       "8   8      -0.39532464 3.117139    \n",
       "9   9      -0.51684994 2.995614    \n",
       "10 10      -0.08784102 3.424623    "
      ]
     },
     "metadata": {},
     "output_type": "display_data"
    }
   ],
   "source": [
    "b_i <- train_set %>%\n",
    "  group_by(movieId) %>% \n",
    "  summarize(b_i = mean(rating - mu),\n",
    "            b_i_isolated = mean(rating))\n",
    "b_i %>% slice_head(n = 10)"
   ]
  },
  {
   "cell_type": "markdown",
   "id": "3732845f",
   "metadata": {},
   "source": [
    "# Isolated movie bias\n",
    "histogram of the movie-specific bias term b_i_isolated for each movie in the training set"
   ]
  },
  {
   "cell_type": "code",
   "execution_count": 44,
   "id": "b02832e4",
   "metadata": {},
   "outputs": [
    {
     "data": {
      "image/png": "[encoded data removed]",
      "text/plain": [
       "plot without title"
      ]
     },
     "metadata": {
      "image/png": {
       "height": 420,
       "width": 420
      }
     },
     "output_type": "display_data"
    }
   ],
   "source": [
    "b_i_isolated_plot <- b_i %>%\n",
    "  ggplot(aes(x = b_i_isolated)) + \n",
    "  geom_histogram(bins = 20, fill = \"red\", color = \"#4020dd\") +\n",
    "  ggtitle(\"Movie Bias (isolated)\") +\n",
    "  xlab(\"Bias value\") +\n",
    "  ylab(\"Count\") +\n",
    "  scale_y_continuous(labels = comma) +\n",
    "  scale_x_continuous(n.breaks = 10) +\n",
    "  theme_economist() \n",
    "b_i_isolated_plot"
   ]
  },
  {
   "cell_type": "code",
   "execution_count": 45,
   "id": "2dd755ae",
   "metadata": {},
   "outputs": [
    {
     "data": {
      "image/png": "[encoded data removed]",
      "text/plain": [
       "plot without title"
      ]
     },
     "metadata": {
      "image/png": {
       "height": 420,
       "width": 420
      }
     },
     "output_type": "display_data"
    }
   ],
   "source": [
    "b_i_plot <- b_i %>%\n",
    "  ggplot(aes(x = b_i)) + \n",
    "  geom_histogram(bins = 20, fill = \"red\", color = \"#4020dd\") +\n",
    "  ggtitle(\"Movie Bias (adjusted)\") +\n",
    "  xlab(\"Bias value\") +\n",
    "  ylab(\"Count\") +\n",
    "  scale_y_continuous(labels = comma) +\n",
    "  scale_x_continuous(n.breaks = 10) +\n",
    "  theme_economist()\n",
    "b_i_plot"
   ]
  },
  {
   "cell_type": "markdown",
   "id": "c1a8b22a",
   "metadata": {},
   "source": [
    "# Linear Model construction (mean + movie bias)\n",
    "\n",
    "Certan movies can be rated higher or lower than the overall mean rating so we are adding movie-specific bias term to the mean baseline mode to to compare the performance of the two models (mean baseline and mean + movie bias."
   ]
  },
  {
   "cell_type": "code",
   "execution_count": 46,
   "id": "9ab0af48",
   "metadata": {},
   "outputs": [
    {
     "name": "stdout",
     "output_type": "stream",
     "text": [
      "\u001b[90m# A tibble: 5 × 4\u001b[39m\n",
      "  Model                               MAE    MSE  RMSE\n",
      "  \u001b[3m\u001b[90m<chr>\u001b[39m\u001b[23m                             \u001b[3m\u001b[90m<dbl>\u001b[39m\u001b[23m  \u001b[3m\u001b[90m<dbl>\u001b[39m\u001b[23m \u001b[3m\u001b[90m<dbl>\u001b[39m\u001b[23m\n",
      "\u001b[90m1\u001b[39m Cinematch                        \u001b[31mNA\u001b[39m     \u001b[31mNA\u001b[39m     0.952\n",
      "\u001b[90m2\u001b[39m The Netflix Prize                \u001b[31mNA\u001b[39m     \u001b[31mNA\u001b[39m     0.857\n",
      "\u001b[90m3\u001b[39m Random guessing                   1.17   2.25  1.50 \n",
      "\u001b[90m4\u001b[39m Linear model (mean baseline)      0.856  1.12  1.06 \n",
      "\u001b[90m5\u001b[39m Linear model (mean + movie bias)  0.738  0.891 0.944\n"
     ]
    }
   ],
   "source": [
    "y_hat_b_i <- mu + validation %>%\n",
    "  left_join(b_i, by = \"movieId\") %>%\n",
    "  .$b_i\n",
    "\n",
    "evaluation <- bind_rows(evaluation,\n",
    "                        tibble(Model = \"Linear model (mean + movie bias)\",\n",
    "                               MAE = Metrics::mae(validation$rating, y_hat_b_i),\n",
    "                               MSE = Metrics::mse(validation$rating, y_hat_b_i),\n",
    "                               RMSE = Metrics::rmse(validation$rating, y_hat_b_i)))\n",
    "print(evaluation)"
   ]
  },
  {
   "cell_type": "code",
   "execution_count": 47,
   "id": "b0a1643a",
   "metadata": {
    "scrolled": true
   },
   "outputs": [
    {
     "name": "stdout",
     "output_type": "stream",
     "text": [
      "\u001b[90m# A tibble: 6 × 4\u001b[39m\n",
      "  Model                               MAE    MSE  RMSE\n",
      "  \u001b[3m\u001b[90m<chr>\u001b[39m\u001b[23m                             \u001b[3m\u001b[90m<dbl>\u001b[39m\u001b[23m  \u001b[3m\u001b[90m<dbl>\u001b[39m\u001b[23m \u001b[3m\u001b[90m<dbl>\u001b[39m\u001b[23m\n",
      "\u001b[90m1\u001b[39m Cinematch                        \u001b[31mNA\u001b[39m     \u001b[31mNA\u001b[39m     0.952\n",
      "\u001b[90m2\u001b[39m The Netflix Prize                \u001b[31mNA\u001b[39m     \u001b[31mNA\u001b[39m     0.857\n",
      "\u001b[90m3\u001b[39m Random guessing                   1.17   2.25  1.50 \n",
      "\u001b[90m4\u001b[39m Linear model (mean baseline)      0.856  1.12  1.06 \n",
      "\u001b[90m5\u001b[39m Linear model (mean + movie bias)  0.738  0.891 0.944\n",
      "\u001b[90m6\u001b[39m Linear model (mean baseline)      0.856  1.12  1.06 \n"
     ]
    }
   ],
   "source": [
    "mu <- mean(train_set$rating)\n",
    "y_hat_mean <- rep(mu, nrow(validation))\n",
    "\n",
    "evaluation <- bind_rows(evaluation, tibble(Model = \"Linear model (mean baseline)\",\n",
    "                                           MAE = Metrics::mae(validation$rating, y_hat_mean),\n",
    "                                           MSE = Metrics::mse(validation$rating, y_hat_mean),\n",
    "                                           RMSE = Metrics::rmse(validation$rating, y_hat_mean)))\n",
    "print(evaluation)\n"
   ]
  },
  {
   "cell_type": "markdown",
   "id": "a745f434",
   "metadata": {},
   "source": [
    " In above result We can see Linear model (mean + movie bias) is performing better than the other models"
   ]
  },
  {
   "cell_type": "code",
   "execution_count": 48,
   "id": "35e7dc5d",
   "metadata": {},
   "outputs": [
    {
     "data": {
      "text/html": [
       "<table class=\"dataframe\">\n",
       "<caption>A tibble: 10 × 3</caption>\n",
       "<thead>\n",
       "\t<tr><th scope=col>userId</th><th scope=col>b_u</th><th scope=col>b_u_isolated</th></tr>\n",
       "\t<tr><th scope=col>&lt;int&gt;</th><th scope=col>&lt;dbl&gt;</th><th scope=col>&lt;dbl&gt;</th></tr>\n",
       "</thead>\n",
       "<tbody>\n",
       "\t<tr><td> 1</td><td> 1.71053746</td><td>5.000000</td></tr>\n",
       "\t<tr><td> 2</td><td>-0.38542913</td><td>3.166667</td></tr>\n",
       "\t<tr><td> 3</td><td> 0.30621872</td><td>3.983333</td></tr>\n",
       "\t<tr><td> 4</td><td> 0.66057548</td><td>4.057143</td></tr>\n",
       "\t<tr><td> 5</td><td> 0.01900505</td><td>3.837500</td></tr>\n",
       "\t<tr><td> 6</td><td> 0.32178944</td><td>3.897436</td></tr>\n",
       "\t<tr><td> 7</td><td> 0.07153407</td><td>3.915842</td></tr>\n",
       "\t<tr><td> 8</td><td> 0.19939428</td><td>3.385694</td></tr>\n",
       "\t<tr><td> 9</td><td> 0.04766464</td><td>3.850000</td></tr>\n",
       "\t<tr><td>10</td><td> 0.07777842</td><td>3.809091</td></tr>\n",
       "</tbody>\n",
       "</table>\n"
      ],
      "text/latex": [
       "A tibble: 10 × 3\n",
       "\\begin{tabular}{lll}\n",
       " userId & b\\_u & b\\_u\\_isolated\\\\\n",
       " <int> & <dbl> & <dbl>\\\\\n",
       "\\hline\n",
       "\t  1 &  1.71053746 & 5.000000\\\\\n",
       "\t  2 & -0.38542913 & 3.166667\\\\\n",
       "\t  3 &  0.30621872 & 3.983333\\\\\n",
       "\t  4 &  0.66057548 & 4.057143\\\\\n",
       "\t  5 &  0.01900505 & 3.837500\\\\\n",
       "\t  6 &  0.32178944 & 3.897436\\\\\n",
       "\t  7 &  0.07153407 & 3.915842\\\\\n",
       "\t  8 &  0.19939428 & 3.385694\\\\\n",
       "\t  9 &  0.04766464 & 3.850000\\\\\n",
       "\t 10 &  0.07777842 & 3.809091\\\\\n",
       "\\end{tabular}\n"
      ],
      "text/markdown": [
       "\n",
       "A tibble: 10 × 3\n",
       "\n",
       "| userId &lt;int&gt; | b_u &lt;dbl&gt; | b_u_isolated &lt;dbl&gt; |\n",
       "|---|---|---|\n",
       "|  1 |  1.71053746 | 5.000000 |\n",
       "|  2 | -0.38542913 | 3.166667 |\n",
       "|  3 |  0.30621872 | 3.983333 |\n",
       "|  4 |  0.66057548 | 4.057143 |\n",
       "|  5 |  0.01900505 | 3.837500 |\n",
       "|  6 |  0.32178944 | 3.897436 |\n",
       "|  7 |  0.07153407 | 3.915842 |\n",
       "|  8 |  0.19939428 | 3.385694 |\n",
       "|  9 |  0.04766464 | 3.850000 |\n",
       "| 10 |  0.07777842 | 3.809091 |\n",
       "\n"
      ],
      "text/plain": [
       "   userId b_u         b_u_isolated\n",
       "1   1      1.71053746 5.000000    \n",
       "2   2     -0.38542913 3.166667    \n",
       "3   3      0.30621872 3.983333    \n",
       "4   4      0.66057548 4.057143    \n",
       "5   5      0.01900505 3.837500    \n",
       "6   6      0.32178944 3.897436    \n",
       "7   7      0.07153407 3.915842    \n",
       "8   8      0.19939428 3.385694    \n",
       "9   9      0.04766464 3.850000    \n",
       "10 10      0.07777842 3.809091    "
      ]
     },
     "metadata": {},
     "output_type": "display_data"
    }
   ],
   "source": [
    "b_u <- train_set %>%\n",
    "  left_join(b_i, by = 'movieId') %>%\n",
    "  group_by(userId) %>% \n",
    "  summarize(b_u = mean(rating - mu - b_i),\n",
    "            b_u_isolated = mean(rating))\n",
    "b_u %>% slice_head(n = 10)"
   ]
  },
  {
   "cell_type": "markdown",
   "id": "2db0fff9",
   "metadata": {},
   "source": [
    "#Isolated user bias plot"
   ]
  },
  {
   "cell_type": "code",
   "execution_count": 49,
   "id": "f215feb4",
   "metadata": {},
   "outputs": [
    {
     "data": {
      "image/png": "[encoded data removed]",
      "text/plain": [
       "plot without title"
      ]
     },
     "metadata": {
      "image/png": {
       "height": 420,
       "width": 420
      }
     },
     "output_type": "display_data"
    }
   ],
   "source": [
    "b_u_isolated_plot <- b_u %>%\n",
    "  ggplot(aes(x = b_u_isolated)) + \n",
    "  geom_histogram(bins = 20, fill = \"blue\", color = \"red\") +\n",
    "  ggtitle(\"User Bias (isolated)\") +\n",
    "  xlab(\"Bias value\") +\n",
    "  ylab(\"Count\") +\n",
    "  scale_y_continuous(labels = comma) +\n",
    "  scale_x_continuous(n.breaks = 10) +\n",
    "  theme_economist() \n",
    "b_u_isolated_plot"
   ]
  },
  {
   "cell_type": "code",
   "execution_count": 50,
   "id": "61d0da17",
   "metadata": {},
   "outputs": [
    {
     "data": {
      "image/png": "[encoded data removed]",
      "text/plain": [
       "plot without title"
      ]
     },
     "metadata": {
      "image/png": {
       "height": 420,
       "width": 420
      }
     },
     "output_type": "display_data"
    }
   ],
   "source": [
    "b_u_plot <- b_u %>%\n",
    "  ggplot(aes(x = b_u)) + \n",
    "  geom_histogram(bins = 20, fill = \"blue\", color = \"red\") +\n",
    "  ggtitle(\"User Bias (adjusted)\") +\n",
    "  xlab(\"Bias value\") +\n",
    "  ylab(\"Count\") +\n",
    "  scale_y_continuous(labels = comma) +\n",
    "  scale_x_continuous(n.breaks = 10) +\n",
    "  theme_economist()\n",
    "b_u_plot"
   ]
  },
  {
   "cell_type": "code",
   "execution_count": 51,
   "id": "4be677ef",
   "metadata": {},
   "outputs": [],
   "source": [
    "y_hat_b_u <- validation %>%\n",
    "  left_join(b_i, by='movieId') %>%\n",
    "  left_join(b_u, by='userId') %>%\n",
    "  mutate(y_hat = mu + b_i + b_u) %>%\n",
    "  .$y_hat"
   ]
  },
  {
   "cell_type": "code",
   "execution_count": 52,
   "id": "c10fb391",
   "metadata": {},
   "outputs": [
    {
     "name": "stdout",
     "output_type": "stream",
     "text": [
      "\u001b[90m# A tibble: 7 × 4\u001b[39m\n",
      "  Model                                        MAE    MSE  RMSE\n",
      "  \u001b[3m\u001b[90m<chr>\u001b[39m\u001b[23m                                      \u001b[3m\u001b[90m<dbl>\u001b[39m\u001b[23m  \u001b[3m\u001b[90m<dbl>\u001b[39m\u001b[23m \u001b[3m\u001b[90m<dbl>\u001b[39m\u001b[23m\n",
      "\u001b[90m1\u001b[39m Cinematch                                 \u001b[31mNA\u001b[39m     \u001b[31mNA\u001b[39m     0.952\n",
      "\u001b[90m2\u001b[39m The Netflix Prize                         \u001b[31mNA\u001b[39m     \u001b[31mNA\u001b[39m     0.857\n",
      "\u001b[90m3\u001b[39m Random guessing                            1.17   2.25  1.50 \n",
      "\u001b[90m4\u001b[39m Linear model (mean baseline)               0.856  1.12  1.06 \n",
      "\u001b[90m5\u001b[39m Linear model (mean + movie bias)           0.738  0.891 0.944\n",
      "\u001b[90m6\u001b[39m Linear model (mean baseline)               0.856  1.12  1.06 \n",
      "\u001b[90m7\u001b[39m Linear model (mean + movie and user bias)  0.669  0.749 0.866\n"
     ]
    }
   ],
   "source": [
    "evaluation <- bind_rows(evaluation, \n",
    "                        tibble(Model = \"Linear model (mean + movie and user bias)\",\n",
    "                               MAE = Metrics::mae(validation$rating, y_hat_b_u),\n",
    "                               MSE = Metrics::mse(validation$rating, y_hat_b_u),\n",
    "                               RMSE = Metrics::rmse(validation$rating, y_hat_b_u)))\n",
    "print(evaluation)"
   ]
  },
  {
   "cell_type": "code",
   "execution_count": 53,
   "id": "97106fdb",
   "metadata": {},
   "outputs": [],
   "source": [
    "titles <- train_set %>% \n",
    "  select(movieId, title) %>% \n",
    "  distinct()"
   ]
  },
  {
   "cell_type": "code",
   "execution_count": 60,
   "id": "02063e0f",
   "metadata": {},
   "outputs": [
    {
     "name": "stdout",
     "output_type": "stream",
     "text": [
      "                                                      title    Rating Count\n",
      "1                                              Grief (1993) 2.5000000     1\n",
      "2                 War of the Worlds 2: The Next Wave (2008) 0.5000000     1\n",
      "3                       SuperBabies: Baby Geniuses 2 (2004) 0.5000000     2\n",
      "4                                  Hip Hop Witch, Da (2000) 0.7500000     2\n",
      "5                               From Justin to Kelly (2003) 0.8611111    18\n",
      "6                                     Disaster Movie (2008) 0.6666667     9\n",
      "7                                 Death of a Dynasty (2003) 4.5000000     1\n",
      "8                                     Pokémon Heroes (2003) 1.0909091    11\n",
      "9                                      Roller Boogie (1979) 2.5000000     2\n",
      "10 Horrors of Spider Island (Ein Toter Hing im Netz) (1960) 3.2500000     2\n"
     ]
    }
   ],
   "source": [
    "worst10_prediction_linear <- test_set %>%\n",
    "  left_join(b_i, by = \"movieId\") %>%\n",
    "  left_join(b_u, by = \"userId\") %>%\n",
    "  mutate(y_hat = mu + b_i + b_u) %>%\n",
    "  arrange(b_i) %>%\n",
    "  select(title) %>%\n",
    "  unique() %>%\n",
    "  slice_head(n = 10)\n",
    "worst10_prediction_linear_df <- data.frame(Title = worst10_prediction_linear,\n",
    "                                           Rating = rep(NA, 10),\n",
    "                                           Count = rep(NA, 10))\n",
    "\n",
    "for (i in 1:10) {\n",
    "  indexes <- which(test_set$title == as.character(worst10_prediction_linear[i]))\n",
    "  worst10_prediction_linear_df$Rating[i] <- mean(test_set$rating[indexes])\n",
    "  worst10_prediction_linear_df$Count[i] <- sum(\n",
    "    test_set$title == as.character(worst10_prediction_linear[i])\n",
    "  )\n",
    "}\n",
    "print(worst10_prediction_linear_df)"
   ]
  },
  {
   "cell_type": "code",
   "execution_count": 56,
   "id": "2342d411",
   "metadata": {},
   "outputs": [
    {
     "name": "stdout",
     "output_type": "stream",
     "text": [
      "                                                          title   Rating Count\n",
      "1                              Shawshank Redemption, The (1994) 4.460006  3138\n",
      "2                                             Annie Hall (1977) 4.115433   797\n",
      "3                                         Godfather, The (1972) 4.382237  2038\n",
      "4  Star Wars: Episode IV - A New Hope (a.k.a. Star Wars) (1977) 4.235582  2757\n",
      "5                                       Schindler's List (1993) 4.343885  2543\n",
      "6                                             Goodfellas (1990) 4.171083  1283\n",
      "7                                           Pulp Fiction (1994) 4.119189  3528\n",
      "8                                           Blade Runner (1982) 4.145026  1548\n",
      "9                                   Boat, The (Das Boot) (1981) 4.187500   768\n",
      "10                                   Usual Suspects, The (1995) 4.342851  2504\n"
     ]
    }
   ],
   "source": [
    "top10_prediction_linear <- test_set %>%\n",
    "  left_join(b_i, by = \"movieId\") %>%\n",
    "  left_join(b_u, by = \"userId\") %>%\n",
    "  mutate(y_hat = mu + b_i + b_u) %>%\n",
    "  arrange(desc(y_hat)) %>%\n",
    "  select(title) %>%\n",
    "  unique() %>%\n",
    "  slice_head(n = 10)\n",
    "top10_prediction_linear_df <- data.frame(Title = top10_prediction_linear,\n",
    "                                         Rating = rep(NA, 10), \n",
    "                                         Count = rep(NA, 10))\n",
    "\n",
    "for (i in 1:10) {\n",
    "  indexes <- which(test_set$title == as.character(top10_prediction_linear[i]))\n",
    "  top10_prediction_linear_df$Rating[i] <- mean(test_set$rating[indexes])\n",
    "  top10_prediction_linear_df$Count[i] <- sum(\n",
    "    test_set$title == as.character(top10_prediction_linear[i])\n",
    "  )\n",
    "}\n",
    "print(top10_prediction_linear_df)"
   ]
  },
  {
   "cell_type": "markdown",
   "id": "c2a7c877",
   "metadata": {},
   "source": [
    "Regularization helps to prevent from overfitting  or over generaliztion in our model which is taking  three arguments #lambda, train_set, and test_set.The linear model may not fit all the datapoints so regulariztion could give the good fit model."
   ]
  },
  {
   "cell_type": "code",
   "execution_count": 61,
   "id": "5bbcef92",
   "metadata": {},
   "outputs": [],
   "source": [
    "regularization <- function(lambda, train_set, test_set){\n",
    "  mu <- mean(train_set$rating)\n",
    "#movie biase b_i\n",
    "  b_i <- train_set %>% \n",
    "    group_by(movieId) %>%\n",
    "    summarize(b_i = sum(rating - mu) / (n() + lambda))\n",
    "    \n",
    "#user_biase\n",
    "  b_u <- train_set %>% \n",
    "    left_join(b_i, by=\"movieId\") %>%\n",
    "    filter(!is.na(b_i)) %>%\n",
    "    group_by(userId) %>%\n",
    "    summarize(b_u = sum(rating - mu - b_i) / (n() + lambda))\n",
    "  \n",
    "#combining the movie bias b_i and user bias b_u with the test dataset,and computes the predicted ratings \n",
    "  predicted_ratings <- test_set %>% \n",
    "    left_join(b_i, by = \"movieId\") %>%\n",
    "    left_join(b_u, by = \"userId\") %>%\n",
    "    filter(!is.na(b_i), !is.na(b_u)) %>%\n",
    "    mutate(pred = mu + b_i + b_u) %>%\n",
    "    pull(pred)\n",
    "    return(Metrics::rmse(predicted_ratings, test_set$rating))\n",
    "}"
   ]
  },
  {
   "cell_type": "markdown",
   "id": "909ed931",
   "metadata": {},
   "source": [
    "It is using sequence of lambda values from 0 to 10, with a step size of 0.25 which  is used to evaluate the #effect of different regularization strengths on the performance of the model. "
   ]
  },
  {
   "cell_type": "code",
   "execution_count": 62,
   "id": "93b8dc81",
   "metadata": {},
   "outputs": [
    {
     "name": "stdout",
     "output_type": "stream",
     "text": [
      "\u001b[90m# A tibble: 41 × 2\u001b[39m\n",
      "   Lambda  RMSE\n",
      "    \u001b[3m\u001b[90m<dbl>\u001b[39m\u001b[23m \u001b[3m\u001b[90m<dbl>\u001b[39m\u001b[23m\n",
      "\u001b[90m 1\u001b[39m   0    0.866\n",
      "\u001b[90m 2\u001b[39m   0.25 0.865\n",
      "\u001b[90m 3\u001b[39m   0.5  0.865\n",
      "\u001b[90m 4\u001b[39m   0.75 0.865\n",
      "\u001b[90m 5\u001b[39m   1    0.865\n",
      "\u001b[90m 6\u001b[39m   1.25 0.865\n",
      "\u001b[90m 7\u001b[39m   1.5  0.865\n",
      "\u001b[90m 8\u001b[39m   1.75 0.865\n",
      "\u001b[90m 9\u001b[39m   2    0.865\n",
      "\u001b[90m10\u001b[39m   2.25 0.865\n",
      "\u001b[90m# … with 31 more rows\u001b[39m\n"
     ]
    }
   ],
   "source": [
    "lambdas <- seq(0, 10, 0.25)\n",
    "lambdas_rmse <- sapply(lambdas,\n",
    "                       regularization, \n",
    "                       train_set = train_set, \n",
    "                       test_set = test_set)\n",
    "lambdas_tibble <- tibble(Lambda = lambdas, RMSE = lambdas_rmse)\n",
    "print(lambdas_tibble)"
   ]
  },
  {
   "cell_type": "markdown",
   "id": "b77de8fe",
   "metadata": {},
   "source": [
    "The value of Lambda increases from 0 to 2.25, the RMSE decreases gradually from 0.8655329 to 0.8651406"
   ]
  },
  {
   "cell_type": "markdown",
   "id": "7dc41f75",
   "metadata": {},
   "source": [
    "The scatterplot between the  relationship between the \"Lambda\" variable and the \"RMSE\" variable"
   ]
  },
  {
   "cell_type": "code",
   "execution_count": 63,
   "id": "80f22514",
   "metadata": {},
   "outputs": [
    {
     "data": {
      "image/png": "[encoded data removed]",
      "text/plain": [
       "plot without title"
      ]
     },
     "metadata": {
      "image/png": {
       "height": 420,
       "width": 420
      }
     },
     "output_type": "display_data"
    }
   ],
   "source": [
    "lambdas_tibble %>%\n",
    "  ggplot(aes(x = Lambda, y = RMSE)) +\n",
    "  geom_point() +\n",
    "  ggtitle(\"Lambda's effect on RMSE\") +\n",
    "  xlab(\"Lambda\") +\n",
    "  ylab(\"RMSE\") +\n",
    "  scale_y_continuous(n.breaks = 6, labels = comma) +\n",
    "  scale_x_continuous(n.breaks = 10) +\n",
    "  theme_economist()"
   ]
  },
  {
   "cell_type": "markdown",
   "id": "3fc3db4c",
   "metadata": {},
   "source": [
    "# We pick the lambda that returns the lowest RMSE."
   ]
  },
  {
   "cell_type": "code",
   "execution_count": 64,
   "id": "1d3a486e",
   "metadata": {},
   "outputs": [],
   "source": [
    "lambda <- lambdas[which.min(lambdas_rmse)]\n",
    "mu <- mean(train_set$rating)"
   ]
  },
  {
   "cell_type": "markdown",
   "id": "8f36a59a",
   "metadata": {},
   "source": [
    "Now making regularized bias linear model for movie ratings bycomputing the movie effect and user effect, and then using these effects to make predictions for the validation set."
   ]
  },
  {
   "cell_type": "code",
   "execution_count": 65,
   "id": "4b3fd2fc",
   "metadata": {},
   "outputs": [
    {
     "name": "stdout",
     "output_type": "stream",
     "text": [
      "\u001b[90m# A tibble: 8 × 4\u001b[39m\n",
      "  Model                                        MAE    MSE  RMSE\n",
      "  \u001b[3m\u001b[90m<chr>\u001b[39m\u001b[23m                                      \u001b[3m\u001b[90m<dbl>\u001b[39m\u001b[23m  \u001b[3m\u001b[90m<dbl>\u001b[39m\u001b[23m \u001b[3m\u001b[90m<dbl>\u001b[39m\u001b[23m\n",
      "\u001b[90m1\u001b[39m Cinematch                                 \u001b[31mNA\u001b[39m     \u001b[31mNA\u001b[39m     0.952\n",
      "\u001b[90m2\u001b[39m The Netflix Prize                         \u001b[31mNA\u001b[39m     \u001b[31mNA\u001b[39m     0.857\n",
      "\u001b[90m3\u001b[39m Random guessing                            1.17   2.25  1.50 \n",
      "\u001b[90m4\u001b[39m Linear model (mean baseline)               0.856  1.12  1.06 \n",
      "\u001b[90m5\u001b[39m Linear model (mean + movie bias)           0.738  0.891 0.944\n",
      "\u001b[90m6\u001b[39m Linear model (mean baseline)               0.856  1.12  1.06 \n",
      "\u001b[90m7\u001b[39m Linear model (mean + movie and user bias)  0.669  0.749 0.866\n",
      "\u001b[90m8\u001b[39m Linear model with regularized bias         0.670  0.748 0.865\n"
     ]
    }
   ],
   "source": [
    "#Movie effect (bi)\n",
    "b_i_regularized <- train_set %>% \n",
    "  group_by(movieId) %>%\n",
    "  summarize(b_i = sum(rating - mu)/(n()+lambda))\n",
    "\n",
    "# User effect (bu)\n",
    "b_u_regularized <- train_set %>% \n",
    "  left_join(b_i, by=\"movieId\") %>%\n",
    "  group_by(userId) %>%\n",
    "  summarize(b_u = sum(rating - b_i - mu)/(n()+lambda))\n",
    "\n",
    "\n",
    "# Prediction\n",
    "y_hat_regularized <- validation %>% \n",
    "  left_join(b_i_regularized, by = \"movieId\") %>%\n",
    "  left_join(b_u_regularized, by = \"userId\") %>%\n",
    "  mutate(prediction = mu + b_i + b_u) %>%\n",
    "  pull(prediction)\n",
    "\n",
    "# Update the result table\n",
    "\n",
    "evaluation <- bind_rows(evaluation,\n",
    "                        tibble(Model = \"Linear model with regularized bias\",\n",
    "                               MAE  = Metrics::mae(validation$rating, y_hat_regularized),\n",
    "                               MSE  = Metrics::mse(validation$rating, y_hat_regularized),\n",
    "                               RMSE = Metrics::rmse(validation$rating, y_hat_regularized)))\n",
    "print(evaluation)\n"
   ]
  },
  {
   "cell_type": "markdown",
   "id": "2b5857fa",
   "metadata": {},
   "source": [
    "WE can see that the regularized bias linear model  performs better than the other models, which achieves an MAE of approximately 0.67, an MSE of approximately 0.75, and an RMSE of approximately 0.86."
   ]
  },
  {
   "cell_type": "code",
   "execution_count": 66,
   "id": "0cdbda1d",
   "metadata": {},
   "outputs": [],
   "source": [
    "top10_prediction_regularized <- test_set %>%\n",
    "  left_join(b_i_regularized, by = \"movieId\") %>%\n",
    "  left_join(b_u_regularized, by = \"userId\") %>%\n",
    "  mutate(y_hat = mu + b_i + b_u) %>%\n",
    "  arrange(desc(y_hat)) %>%\n",
    "  select(title) %>%\n",
    "  unique() %>%\n",
    "  slice_head(n = 10)\n",
    "top10_prediction_regularized_df <- data.frame(Title = top10_prediction_regularized,\n",
    "                                              Rating = rep(NA, 10),\n",
    "                                              Count = rep(NA, 10))"
   ]
  },
  {
   "cell_type": "code",
   "execution_count": 67,
   "id": "5c05c067",
   "metadata": {},
   "outputs": [
    {
     "name": "stdout",
     "output_type": "stream",
     "text": [
      "                                                          title   Rating Count\n",
      "1                              Shawshank Redemption, The (1994) 4.460006  3138\n",
      "2                                         Godfather, The (1972) 4.382237  2038\n",
      "3  Star Wars: Episode IV - A New Hope (a.k.a. Star Wars) (1977) 4.235582  2757\n",
      "4                                             Goodfellas (1990) 4.171083  1283\n",
      "5                                           Pulp Fiction (1994) 4.119189  3528\n",
      "6                                           Blade Runner (1982) 4.145026  1548\n",
      "7                                             Annie Hall (1977) 4.115433   797\n",
      "8                                       Schindler's List (1993) 4.343885  2543\n",
      "9                                    Usual Suspects, The (1995) 4.342851  2504\n",
      "10                             Silence of the Lambs, The (1991) 4.196281  3388\n"
     ]
    }
   ],
   "source": [
    "for (i in 1:10) {\n",
    "  indexes <- which(test_set$title == as.character(top10_prediction_regularized[i]))\n",
    "  top10_prediction_regularized_df$Rating[i] <- mean(test_set$rating[indexes])\n",
    "  top10_prediction_regularized_df$Count[i] <- sum(\n",
    "    test_set$title == as.character(top10_prediction_regularized[i])\n",
    "  )\n",
    "}\n",
    "print(top10_prediction_regularized_df)"
   ]
  },
  {
   "cell_type": "code",
   "execution_count": 68,
   "id": "0aa06b46",
   "metadata": {},
   "outputs": [
    {
     "name": "stdout",
     "output_type": "stream",
     "text": [
      "                                                 title   Rating Count\n",
      "1     Police Academy 5: Assignment: Miami Beach (1988) 1.858268   127\n",
      "2                                     RoboCop 3 (1993) 2.182310   277\n",
      "3                                 Iron Eagle IV (1995) 1.435484    31\n",
      "4                           Eye of the Beholder (1999) 2.384146    82\n",
      "5  Pokemon 4 Ever (a.k.a. Pokémon 4: The Movie) (2002) 1.100000    25\n",
      "6                  Turbo: A Power Rangers Movie (1997) 1.320000    50\n",
      "7                                       Glitter (2001) 1.287500    40\n",
      "8                     Island of Dr. Moreau, The (1996) 2.398333   300\n",
      "9                                  Airport 1975 (1974) 2.810811    37\n",
      "10          Prom Night IV: Deliver Us From Evil (1992) 1.125000    12\n"
     ]
    }
   ],
   "source": [
    "worst10_prediction_regularized <- test_set %>%\n",
    "  left_join(b_i_regularized, by = \"movieId\") %>%\n",
    "  left_join(b_u_regularized, by = \"userId\") %>%\n",
    "  mutate(y_hat = mu + b_i + b_u) %>%\n",
    "  arrange(y_hat) %>%\n",
    "  select(title) %>%\n",
    "  unique() %>%\n",
    "  slice_head(n = 10)\n",
    "worst10_prediction_regularized_df <- data.frame(Title = worst10_prediction_regularized,\n",
    "                                                Rating = rep(NA, 10),\n",
    "                                                Count = rep(NA, 10))\n",
    "\n",
    "for (i in 1:10) {\n",
    "  indexes <- which(test_set$title == as.character(worst10_prediction_regularized[i]))\n",
    "  worst10_prediction_regularized_df$Rating[i] <- mean(test_set$rating[indexes])\n",
    "  worst10_prediction_regularized_df$Count[i] <- sum(\n",
    "    test_set$title == as.character(worst10_prediction_regularized[i])\n",
    "  )\n",
    "}\n",
    "print(worst10_prediction_regularized_df)\n"
   ]
  },
  {
   "cell_type": "markdown",
   "id": "f507fc85",
   "metadata": {},
   "source": [
    "the train and test set are converted into reco-system which is created using the data_memory() \n",
    "function from the recommenderlab package"
   ]
  },
  {
   "cell_type": "markdown",
   "id": "ccf15294",
   "metadata": {},
   "source": [
    "# matrix"
   ]
  },
  {
   "cell_type": "code",
   "execution_count": 69,
   "id": "b001fb99",
   "metadata": {},
   "outputs": [],
   "source": [
    "set.seed(1)\n",
    "train_recosystem <- with(train_set, data_memory(user_index = userId, \n",
    "                                                item_index = movieId,\n",
    "                                                rating     = rating))\n",
    "test_recosystem <- with(test_set, data_memory(user_index = userId, \n",
    "                                              item_index = movieId, \n",
    "                                              rating     = rating))"
   ]
  },
  {
   "cell_type": "code",
   "execution_count": 70,
   "id": "cad703d6",
   "metadata": {},
   "outputs": [],
   "source": [
    "recommendation_system <- Reco()"
   ]
  },
  {
   "cell_type": "markdown",
   "id": "f4006204",
   "metadata": {},
   "source": [
    "we are tunning the model to search for the optimal hyperparameters for a collaborative filtering algorithm\n",
    "learning rate (0.1 and 0.2),no of iteration 10,dimensionality of the latent factor model (10, 20, and 30),the number of threads (4) is used"
   ]
  },
  {
   "cell_type": "code",
   "execution_count": 71,
   "id": "a6d7239c",
   "metadata": {},
   "outputs": [],
   "source": [
    "tuning <- recommendation_system$tune(train_recosystem, opts = list(dim = c(10, 20, 30),\n",
    "                                                                   lrate = c(0.1, 0.2),\n",
    "                                                                   nthread  = 4,\n",
    "                                                                   niter = 10))"
   ]
  },
  {
   "cell_type": "markdown",
   "id": "9370d0cc",
   "metadata": {},
   "source": [
    "Now time to train the recommendation system on the training dataset using the optimal hyperparameters obtained from tuning\n"
   ]
  },
  {
   "cell_type": "code",
   "execution_count": 72,
   "id": "aa1d0956",
   "metadata": {},
   "outputs": [
    {
     "name": "stdout",
     "output_type": "stream",
     "text": [
      "iter      tr_rmse          obj\n",
      "   0       0.9711   1.1993e+07\n",
      "   1       0.8718   9.8799e+06\n",
      "   2       0.8386   9.1718e+06\n",
      "   3       0.8155   8.7424e+06\n",
      "   4       0.7996   8.4563e+06\n",
      "   5       0.7879   8.2574e+06\n",
      "   6       0.7786   8.1093e+06\n",
      "   7       0.7708   7.9947e+06\n",
      "   8       0.7642   7.8982e+06\n",
      "   9       0.7586   7.8220e+06\n",
      "  10       0.7535   7.7568e+06\n",
      "  11       0.7488   7.6972e+06\n",
      "  12       0.7446   7.6471e+06\n",
      "  13       0.7409   7.6046e+06\n",
      "  14       0.7374   7.5646e+06\n",
      "  15       0.7342   7.5301e+06\n",
      "  16       0.7312   7.4986e+06\n",
      "  17       0.7285   7.4709e+06\n",
      "  18       0.7260   7.4442e+06\n",
      "  19       0.7237   7.4209e+06\n"
     ]
    }
   ],
   "source": [
    "recommendation_system$train(train_recosystem, opts = c(tuning$min,\n",
    "                                                       nthread = 4,\n",
    "                                                       niter = 20))"
   ]
  },
  {
   "cell_type": "markdown",
   "id": "56a6899a",
   "metadata": {},
   "source": [
    "We will use trained recommendation system model to make predictions on the test set"
   ]
  },
  {
   "cell_type": "code",
   "execution_count": 73,
   "id": "8081ce3b",
   "metadata": {},
   "outputs": [],
   "source": [
    "y_hat_MF <-  recommendation_system$predict(test_recosystem, out_memory())"
   ]
  },
  {
   "cell_type": "code",
   "execution_count": 74,
   "id": "6fe18ad8",
   "metadata": {},
   "outputs": [
    {
     "name": "stdout",
     "output_type": "stream",
     "text": [
      "\u001b[90m# A tibble: 9 × 4\u001b[39m\n",
      "  Model                                        MAE    MSE  RMSE\n",
      "  \u001b[3m\u001b[90m<chr>\u001b[39m\u001b[23m                                      \u001b[3m\u001b[90m<dbl>\u001b[39m\u001b[23m  \u001b[3m\u001b[90m<dbl>\u001b[39m\u001b[23m \u001b[3m\u001b[90m<dbl>\u001b[39m\u001b[23m\n",
      "\u001b[90m1\u001b[39m Cinematch                                 \u001b[31mNA\u001b[39m     \u001b[31mNA\u001b[39m     0.952\n",
      "\u001b[90m2\u001b[39m The Netflix Prize                         \u001b[31mNA\u001b[39m     \u001b[31mNA\u001b[39m     0.857\n",
      "\u001b[90m3\u001b[39m Random guessing                            1.17   2.25  1.50 \n",
      "\u001b[90m4\u001b[39m Linear model (mean baseline)               0.856  1.12  1.06 \n",
      "\u001b[90m5\u001b[39m Linear model (mean + movie bias)           0.738  0.891 0.944\n",
      "\u001b[90m6\u001b[39m Linear model (mean baseline)               0.856  1.12  1.06 \n",
      "\u001b[90m7\u001b[39m Linear model (mean + movie and user bias)  0.669  0.749 0.866\n",
      "\u001b[90m8\u001b[39m Linear model with regularized bias         0.670  0.748 0.865\n",
      "\u001b[90m9\u001b[39m Matrix factorization                       0.604  0.614 0.783\n"
     ]
    }
   ],
   "source": [
    "evaluation <- bind_rows(evaluation,\n",
    "                        tibble(Model = \"Matrix factorization\",\n",
    "                               MAE  = Metrics::mae(validation$rating, y_hat_MF),\n",
    "                               MSE  = Metrics::mse(validation$rating, y_hat_MF),\n",
    "                               RMSE = Metrics::rmse(validation$rating, y_hat_MF)))\n",
    "print(evaluation)"
   ]
  },
  {
   "cell_type": "markdown",
   "id": "2f944413",
   "metadata": {},
   "source": [
    "Among all the models, best model is Matrix factorization.  It has an RMSE of 0.784, which is the lowest among all the models evaluated."
   ]
  },
  {
   "cell_type": "code",
   "execution_count": 75,
   "id": "eacd6085",
   "metadata": {},
   "outputs": [
    {
     "name": "stdout",
     "output_type": "stream",
     "text": [
      "                                                          title   Rating Count\n",
      "1                                                 Becket (1964) 3.911765    17\n",
      "2                                       Cats Don't Dance (1997) 2.968750    16\n",
      "3         Star Wars: Episode V - The Empire Strikes Back (1980) 4.176275  2255\n",
      "4                                      Year of the Horse (1997) 2.928571     7\n",
      "5                              Shawshank Redemption, The (1994) 4.460006  3138\n",
      "6                               Antonia's Line (Antonia) (1995) 4.002793   179\n",
      "7                       By the Light of the Silvery Moon (1953) 3.625000     4\n",
      "8  Star Wars: Episode IV - A New Hope (a.k.a. Star Wars) (1977) 4.235582  2757\n",
      "9                                           Pulp Fiction (1994) 4.119189  3528\n",
      "10                                      Schindler's List (1993) 4.343885  2543\n"
     ]
    }
   ],
   "source": [
    "top10_prediction_MF <- tibble(title = test_set$title, y_hat = y_hat_MF) %>%\n",
    "  arrange(desc(y_hat)) %>%\n",
    "  select(title) %>%\n",
    "  unique() %>%\n",
    "  slice_head(n = 10)\n",
    "top10_prediction_MF_df <- data.frame(Title = top10_prediction_MF,\n",
    "                                     Rating = rep(NA, 10),\n",
    "                                     Count = rep(NA, 10))\n",
    "\n",
    "for (i in 1:10) {\n",
    "  indexes <- which(test_set$title == as.character(top10_prediction_MF[i,]))\n",
    "  top10_prediction_MF_df$Rating[i] <- mean(test_set$rating[indexes])\n",
    "  top10_prediction_MF_df$Count[i] <- sum(\n",
    "    test_set$title == as.character(top10_prediction_MF[i,])\n",
    "  )\n",
    "}\n",
    "print(top10_prediction_MF_df)\n"
   ]
  },
  {
   "cell_type": "code",
   "execution_count": 76,
   "id": "dd89b16a",
   "metadata": {},
   "outputs": [
    {
     "name": "stdout",
     "output_type": "stream",
     "text": [
      "                                                   title   Rating Count\n",
      "1                                    Pearl Harbor (2001) 2.910165   423\n",
      "2                       Beast of Yucca Flats, The (1961) 2.000000     5\n",
      "3                                       Boys, Les (1997) 2.500000     4\n",
      "4  Murder on a Sunday Morning (Un coupable idéal) (2001) 3.300000    10\n",
      "5          Santa Clause 3: The Escape Clause, The (2006) 2.200000     5\n",
      "6                    Texas Chainsaw Massacre, The (1974) 3.107143   154\n",
      "7                                         Orphans (1997) 2.900000     5\n",
      "8                             Switchblade Sisters (1975) 3.133333    15\n",
      "9                                Rugrats Go Wild! (2003) 1.888889    18\n",
      "10       Metalstorm: The Destruction of Jared-Syn (1983) 1.500000     5\n"
     ]
    }
   ],
   "source": [
    "worst10_prediction_MF <- tibble(title = test_set$title, y_hat = y_hat_MF) %>%\n",
    "  arrange(y_hat) %>%\n",
    "  select(title) %>%\n",
    "  unique() %>%\n",
    "  slice_head(n = 10)\n",
    "worst10_prediction_MF_df <- data.frame(Title = worst10_prediction_MF,\n",
    "                                       Rating = rep(NA, 10),\n",
    "                                       Count = rep(NA, 10))\n",
    "\n",
    "for (i in 1:10) {\n",
    "  indexes <- which(test_set$title == as.character(worst10_prediction_MF[i,]))\n",
    "  worst10_prediction_MF_df$Rating[i] <- mean(test_set$rating[indexes])\n",
    "  worst10_prediction_MF_df$Count[i] <- sum(\n",
    "    test_set$title == as.character(worst10_prediction_MF[i,])\n",
    "  )\n",
    "}\n",
    "print(worst10_prediction_MF_df)"
   ]
  },
  {
   "cell_type": "markdown",
   "id": "cb36cffd",
   "metadata": {},
   "source": [
    "Both models performed well based on the evaluation metrics and recommended movies, but matrix factorization yielded better results due to its ability to handle non-linear data. "
   ]
  }
 ],
 "metadata": {
  "kernelspec": {
   "display_name": "R",
   "language": "R",
   "name": "ir"
  },
  "language_info": {
   "codemirror_mode": "r",
   "file_extension": ".r",
   "mimetype": "text/x-r-source",
   "name": "R",
   "pygments_lexer": "r",
   "version": "4.2.2"
  }
 },
 "nbformat": 4,
 "nbformat_minor": 5
}
